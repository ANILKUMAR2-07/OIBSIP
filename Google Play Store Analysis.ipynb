{
 "cells": [
  {
   "cell_type": "markdown",
   "id": "c9abc8f2",
   "metadata": {
    "papermill": {
     "duration": 0.025252,
     "end_time": "2024-07-05T12:35:07.410982",
     "exception": false,
     "start_time": "2024-07-05T12:35:07.385730",
     "status": "completed"
    },
    "tags": []
   },
   "source": [
    "<div style=\"border-radius: 15px; padding: 20px; background-color: #0B1E47; border: 3px solid #ffffff; text-align: center; box-shadow: 0px 2px 4px rgba(0, 0, 0, 0.2);\">\n",
    "    <h1 style=\"color: #ffffff; text-shadow: 2px 2px 4px rgba(0, 0, 0, 0.5); font-weight: bold; margin-bottom: 10px; font-size: 36px;\">Unlocking Google Play Store</h1>\n",
    "</div>\n"
   ]
  },
  {
   "cell_type": "markdown",
   "id": "3e4246b0",
   "metadata": {
    "papermill": {
     "duration": 0.023815,
     "end_time": "2024-07-05T12:35:07.459652",
     "exception": false,
     "start_time": "2024-07-05T12:35:07.435837",
     "status": "completed"
    },
    "tags": []
   },
   "source": [
    "![](https://www.blackxperience.com/assets/content/blackattitude/blacktech/google-play-store-logo.jpg)"
   ]
  },
  {
   "cell_type": "markdown",
   "id": "3fafae65",
   "metadata": {
    "papermill": {
     "duration": 0.023812,
     "end_time": "2024-07-05T12:35:07.507559",
     "exception": false,
     "start_time": "2024-07-05T12:35:07.483747",
     "status": "completed"
    },
    "tags": []
   },
   "source": [
    "<a id=\"table\"></a>\n",
    "<h1 style=\"background-color: #0B1E47; color: #ffffff; font-family: 'Times New Roman', serif; font-size: 3.5em; text-align: center; padding: 10px; border: 3px solid #ffffff; border-radius: 15px 50px;\">Table Of Content</h1>\n",
    "\n",
    "<ul style=\"font-size: 1.5em;\">\n",
    "    <li><a href=\"#1\">1. IMPORTING LIBRARIES</a></li>\n",
    "    <li><a href=\"#2\">2. LOADING DATASET</a></li>\n",
    "    <li><a href=\"#3\">3. EXPLORATORY DATA ANALYSIS</a></li>\n",
    "    <li><a href=\"#4\">4. DATA VISUALIZATION</a></li>\n",
    "</ul>\n",
    "\n"
   ]
  },
  {
   "cell_type": "markdown",
   "id": "86702486",
   "metadata": {
    "papermill": {
     "duration": 0.024783,
     "end_time": "2024-07-05T12:35:07.556642",
     "exception": false,
     "start_time": "2024-07-05T12:35:07.531859",
     "status": "completed"
    },
    "tags": []
   },
   "source": [
    "<a id=\"1\"></a>\n",
    "<p style=\"padding: 10px; background-color: #0B1E47; color: #ffffff; font-family: 'Times New Roman', serif; font-size: 1.5em; text-align: center; border: 3px solid #ffffff; border-radius: 15px 50px; margin: 0; font-weight: 500;\">IMPORTING LIBRARIES</p>\n"
   ]
  },
  {
   "cell_type": "code",
   "execution_count": 1,
   "id": "2f4841fb",
   "metadata": {
    "papermill": {
     "duration": 1.442976,
     "end_time": "2024-07-05T12:35:09.023563",
     "exception": false,
     "start_time": "2024-07-05T12:35:07.580587",
     "status": "completed"
    },
    "tags": []
   },
   "outputs": [
    {
     "name": "stdout",
     "output_type": "stream",
     "text": [
      "Csv file successfully read with encoding: utf-8\n"
     ]
    }
   ],
   "source": [
    "\n",
    "import pandas as pd\n",
    "import numpy as np\n",
    "import seaborn as sns\n",
    "import matplotlib.pyplot as plt\n",
    "%matplotlib inline\n",
    "\n",
    "\n",
    "encodings = ['utf-8', 'latin1', 'cp1252']\n",
    "file = 'googleplaystore.csv.zip'\n",
    "\n",
    "for encoding in encodings:\n",
    "    try:\n",
    "        df = pd.read_csv(file, encoding=encoding)\n",
    "        print(f\"Csv file successfully read with encoding: {encoding}\")\n",
    "        break\n",
    "    except UnicodeDecodeError:\n",
    "        print(f\"Failed to read CSV file with encoding: {encoding}\")"
   ]
  },
  {
   "cell_type": "code",
   "execution_count": 2,
   "id": "4d979ae6",
   "metadata": {
    "papermill": {
     "duration": 0.033682,
     "end_time": "2024-07-05T12:35:09.082837",
     "exception": false,
     "start_time": "2024-07-05T12:35:09.049155",
     "status": "completed"
    },
    "tags": []
   },
   "outputs": [],
   "source": [
    "# Hide all the warnings\n",
    "import warnings\n",
    "warnings.filterwarnings('ignore')"
   ]
  },
  {
   "cell_type": "markdown",
   "id": "b12c199e",
   "metadata": {
    "papermill": {
     "duration": 0.02367,
     "end_time": "2024-07-05T12:35:09.130687",
     "exception": false,
     "start_time": "2024-07-05T12:35:09.107017",
     "status": "completed"
    },
    "tags": []
   },
   "source": [
    "<a id=\"2\"></a>\n",
    "<p style=\"padding: 10px; background-color: #0B1E47; color: #ffffff; font-family: 'Times New Roman', serif; font-size: 1.5em; text-align: center; border: 3px solid #ffffff; border-radius: 15px 50px; margin: 0; font-weight: 500;\">LOADING DATASET</p>\n"
   ]
  },
  {
   "cell_type": "code",
   "execution_count": 3,
   "id": "66bc6838",
   "metadata": {
    "papermill": {
     "duration": 0.108257,
     "end_time": "2024-07-05T12:35:09.264212",
     "exception": false,
     "start_time": "2024-07-05T12:35:09.155955",
     "status": "completed"
    },
    "tags": []
   },
   "outputs": [],
   "source": [
    "df = pd.read_csv('googleplaystore.csv.zip')"
   ]
  },
  {
   "cell_type": "code",
   "execution_count": 4,
   "id": "e49de560",
   "metadata": {
    "papermill": {
     "duration": 0.123559,
     "end_time": "2024-07-05T12:35:09.412980",
     "exception": false,
     "start_time": "2024-07-05T12:35:09.289421",
     "status": "completed"
    },
    "tags": []
   },
   "outputs": [
    {
     "data": {
      "text/html": [
       "<div>\n",
       "<style scoped>\n",
       "    .dataframe tbody tr th:only-of-type {\n",
       "        vertical-align: middle;\n",
       "    }\n",
       "\n",
       "    .dataframe tbody tr th {\n",
       "        vertical-align: top;\n",
       "    }\n",
       "\n",
       "    .dataframe thead th {\n",
       "        text-align: right;\n",
       "    }\n",
       "</style>\n",
       "<table border=\"1\" class=\"dataframe\">\n",
       "  <thead>\n",
       "    <tr style=\"text-align: right;\">\n",
       "      <th></th>\n",
       "      <th>App</th>\n",
       "      <th>Category</th>\n",
       "      <th>Rating</th>\n",
       "      <th>Reviews</th>\n",
       "      <th>Size</th>\n",
       "      <th>Installs</th>\n",
       "      <th>Type</th>\n",
       "      <th>Price</th>\n",
       "      <th>Content Rating</th>\n",
       "      <th>Genres</th>\n",
       "      <th>Last Updated</th>\n",
       "      <th>Current Ver</th>\n",
       "      <th>Android Ver</th>\n",
       "    </tr>\n",
       "  </thead>\n",
       "  <tbody>\n",
       "    <tr>\n",
       "      <th>0</th>\n",
       "      <td>Photo Editor &amp; Candy Camera &amp; Grid &amp; ScrapBook</td>\n",
       "      <td>ART_AND_DESIGN</td>\n",
       "      <td>4.1</td>\n",
       "      <td>159</td>\n",
       "      <td>19M</td>\n",
       "      <td>10,000+</td>\n",
       "      <td>Free</td>\n",
       "      <td>0</td>\n",
       "      <td>Everyone</td>\n",
       "      <td>Art &amp; Design</td>\n",
       "      <td>January 7, 2018</td>\n",
       "      <td>1.0.0</td>\n",
       "      <td>4.0.3 and up</td>\n",
       "    </tr>\n",
       "    <tr>\n",
       "      <th>1</th>\n",
       "      <td>Coloring book moana</td>\n",
       "      <td>ART_AND_DESIGN</td>\n",
       "      <td>3.9</td>\n",
       "      <td>967</td>\n",
       "      <td>14M</td>\n",
       "      <td>500,000+</td>\n",
       "      <td>Free</td>\n",
       "      <td>0</td>\n",
       "      <td>Everyone</td>\n",
       "      <td>Art &amp; Design;Pretend Play</td>\n",
       "      <td>January 15, 2018</td>\n",
       "      <td>2.0.0</td>\n",
       "      <td>4.0.3 and up</td>\n",
       "    </tr>\n",
       "    <tr>\n",
       "      <th>2</th>\n",
       "      <td>U Launcher Lite – FREE Live Cool Themes, Hide ...</td>\n",
       "      <td>ART_AND_DESIGN</td>\n",
       "      <td>4.7</td>\n",
       "      <td>87510</td>\n",
       "      <td>8.7M</td>\n",
       "      <td>5,000,000+</td>\n",
       "      <td>Free</td>\n",
       "      <td>0</td>\n",
       "      <td>Everyone</td>\n",
       "      <td>Art &amp; Design</td>\n",
       "      <td>August 1, 2018</td>\n",
       "      <td>1.2.4</td>\n",
       "      <td>4.0.3 and up</td>\n",
       "    </tr>\n",
       "    <tr>\n",
       "      <th>3</th>\n",
       "      <td>Sketch - Draw &amp; Paint</td>\n",
       "      <td>ART_AND_DESIGN</td>\n",
       "      <td>4.5</td>\n",
       "      <td>215644</td>\n",
       "      <td>25M</td>\n",
       "      <td>50,000,000+</td>\n",
       "      <td>Free</td>\n",
       "      <td>0</td>\n",
       "      <td>Teen</td>\n",
       "      <td>Art &amp; Design</td>\n",
       "      <td>June 8, 2018</td>\n",
       "      <td>Varies with device</td>\n",
       "      <td>4.2 and up</td>\n",
       "    </tr>\n",
       "    <tr>\n",
       "      <th>4</th>\n",
       "      <td>Pixel Draw - Number Art Coloring Book</td>\n",
       "      <td>ART_AND_DESIGN</td>\n",
       "      <td>4.3</td>\n",
       "      <td>967</td>\n",
       "      <td>2.8M</td>\n",
       "      <td>100,000+</td>\n",
       "      <td>Free</td>\n",
       "      <td>0</td>\n",
       "      <td>Everyone</td>\n",
       "      <td>Art &amp; Design;Creativity</td>\n",
       "      <td>June 20, 2018</td>\n",
       "      <td>1.1</td>\n",
       "      <td>4.4 and up</td>\n",
       "    </tr>\n",
       "  </tbody>\n",
       "</table>\n",
       "</div>"
      ],
      "text/plain": [
       "                                                 App        Category  Rating  \\\n",
       "0     Photo Editor & Candy Camera & Grid & ScrapBook  ART_AND_DESIGN     4.1   \n",
       "1                                Coloring book moana  ART_AND_DESIGN     3.9   \n",
       "2  U Launcher Lite – FREE Live Cool Themes, Hide ...  ART_AND_DESIGN     4.7   \n",
       "3                              Sketch - Draw & Paint  ART_AND_DESIGN     4.5   \n",
       "4              Pixel Draw - Number Art Coloring Book  ART_AND_DESIGN     4.3   \n",
       "\n",
       "  Reviews  Size     Installs  Type Price Content Rating  \\\n",
       "0     159   19M      10,000+  Free     0       Everyone   \n",
       "1     967   14M     500,000+  Free     0       Everyone   \n",
       "2   87510  8.7M   5,000,000+  Free     0       Everyone   \n",
       "3  215644   25M  50,000,000+  Free     0           Teen   \n",
       "4     967  2.8M     100,000+  Free     0       Everyone   \n",
       "\n",
       "                      Genres      Last Updated         Current Ver  \\\n",
       "0               Art & Design   January 7, 2018               1.0.0   \n",
       "1  Art & Design;Pretend Play  January 15, 2018               2.0.0   \n",
       "2               Art & Design    August 1, 2018               1.2.4   \n",
       "3               Art & Design      June 8, 2018  Varies with device   \n",
       "4    Art & Design;Creativity     June 20, 2018                 1.1   \n",
       "\n",
       "    Android Ver  \n",
       "0  4.0.3 and up  \n",
       "1  4.0.3 and up  \n",
       "2  4.0.3 and up  \n",
       "3    4.2 and up  \n",
       "4    4.4 and up  "
      ]
     },
     "execution_count": 4,
     "metadata": {},
     "output_type": "execute_result"
    }
   ],
   "source": [
    "df.head()"
   ]
  },
  {
   "cell_type": "code",
   "execution_count": 5,
   "id": "db3172d5",
   "metadata": {
    "papermill": {
     "duration": 0.034091,
     "end_time": "2024-07-05T12:35:09.472725",
     "exception": false,
     "start_time": "2024-07-05T12:35:09.438634",
     "status": "completed"
    },
    "tags": []
   },
   "outputs": [],
   "source": [
    "# to get to see all columns\n",
    "pd.set_option('display.max_columns',None)\n",
    "pd.set_option('display.max_rows',None)"
   ]
  },
  {
   "cell_type": "code",
   "execution_count": 6,
   "id": "4e2831d6",
   "metadata": {
    "papermill": {
     "duration": 0.036999,
     "end_time": "2024-07-05T12:35:09.534388",
     "exception": false,
     "start_time": "2024-07-05T12:35:09.497389",
     "status": "completed"
    },
    "tags": []
   },
   "outputs": [
    {
     "data": {
      "text/plain": [
       "Index(['App', 'Category', 'Rating', 'Reviews', 'Size', 'Installs', 'Type',\n",
       "       'Price', 'Content Rating', 'Genres', 'Last Updated', 'Current Ver',\n",
       "       'Android Ver'],\n",
       "      dtype='object')"
      ]
     },
     "execution_count": 6,
     "metadata": {},
     "output_type": "execute_result"
    }
   ],
   "source": [
    "(df.columns)"
   ]
  },
  {
   "cell_type": "markdown",
   "id": "60ce71c1",
   "metadata": {
    "papermill": {
     "duration": 0.024742,
     "end_time": "2024-07-05T12:35:09.584773",
     "exception": false,
     "start_time": "2024-07-05T12:35:09.560031",
     "status": "completed"
    },
    "tags": []
   },
   "source": [
    "<a id=\"3\"></a>\n",
    "<p style=\"padding: 10px; background-color: #0B1E47; color: #ffffff; font-family: 'Times New Roman', serif; font-size: 1.5em; text-align: center; border: 3px solid #ffffff; border-radius: 15px 50px; margin: 0; font-weight: 500;\">EXPLORATORY DATA ANALYSIS</p>\n"
   ]
  },
  {
   "cell_type": "code",
   "execution_count": 7,
   "id": "e698c440",
   "metadata": {
    "papermill": {
     "duration": 0.064171,
     "end_time": "2024-07-05T12:35:09.674972",
     "exception": false,
     "start_time": "2024-07-05T12:35:09.610801",
     "status": "completed"
    },
    "tags": []
   },
   "outputs": [
    {
     "name": "stdout",
     "output_type": "stream",
     "text": [
      "<class 'pandas.core.frame.DataFrame'>\n",
      "RangeIndex: 10841 entries, 0 to 10840\n",
      "Data columns (total 13 columns):\n",
      " #   Column          Non-Null Count  Dtype  \n",
      "---  ------          --------------  -----  \n",
      " 0   App             10841 non-null  object \n",
      " 1   Category        10841 non-null  object \n",
      " 2   Rating          9367 non-null   float64\n",
      " 3   Reviews         10841 non-null  object \n",
      " 4   Size            10841 non-null  object \n",
      " 5   Installs        10841 non-null  object \n",
      " 6   Type            10840 non-null  object \n",
      " 7   Price           10841 non-null  object \n",
      " 8   Content Rating  10840 non-null  object \n",
      " 9   Genres          10841 non-null  object \n",
      " 10  Last Updated    10841 non-null  object \n",
      " 11  Current Ver     10833 non-null  object \n",
      " 12  Android Ver     10838 non-null  object \n",
      "dtypes: float64(1), object(12)\n",
      "memory usage: 1.1+ MB\n"
     ]
    }
   ],
   "source": [
    "df.info()"
   ]
  },
  {
   "cell_type": "code",
   "execution_count": 8,
   "id": "5b4d9944",
   "metadata": {
    "papermill": {
     "duration": 0.035832,
     "end_time": "2024-07-05T12:35:09.736079",
     "exception": false,
     "start_time": "2024-07-05T12:35:09.700247",
     "status": "completed"
    },
    "tags": []
   },
   "outputs": [
    {
     "data": {
      "text/plain": [
       "(10841, 13)"
      ]
     },
     "execution_count": 8,
     "metadata": {},
     "output_type": "execute_result"
    }
   ],
   "source": [
    "df.shape"
   ]
  },
  {
   "cell_type": "code",
   "execution_count": 9,
   "id": "043a3406",
   "metadata": {
    "papermill": {
     "duration": 0.0356,
     "end_time": "2024-07-05T12:35:09.797166",
     "exception": false,
     "start_time": "2024-07-05T12:35:09.761566",
     "status": "completed"
    },
    "tags": []
   },
   "outputs": [
    {
     "name": "stdout",
     "output_type": "stream",
     "text": [
      "Number of rows : 10841\n",
      "Number of columns : 13\n"
     ]
    }
   ],
   "source": [
    "print(f'Number of rows : {df.shape[0]}')\n",
    "print(f'Number of columns : {df.shape[1]}')"
   ]
  },
  {
   "cell_type": "code",
   "execution_count": 10,
   "id": "86452832",
   "metadata": {
    "papermill": {
     "duration": 0.045558,
     "end_time": "2024-07-05T12:35:09.868154",
     "exception": false,
     "start_time": "2024-07-05T12:35:09.822596",
     "status": "completed"
    },
    "tags": []
   },
   "outputs": [
    {
     "data": {
      "text/html": [
       "<div>\n",
       "<style scoped>\n",
       "    .dataframe tbody tr th:only-of-type {\n",
       "        vertical-align: middle;\n",
       "    }\n",
       "\n",
       "    .dataframe tbody tr th {\n",
       "        vertical-align: top;\n",
       "    }\n",
       "\n",
       "    .dataframe thead th {\n",
       "        text-align: right;\n",
       "    }\n",
       "</style>\n",
       "<table border=\"1\" class=\"dataframe\">\n",
       "  <thead>\n",
       "    <tr style=\"text-align: right;\">\n",
       "      <th></th>\n",
       "      <th>Rating</th>\n",
       "    </tr>\n",
       "  </thead>\n",
       "  <tbody>\n",
       "    <tr>\n",
       "      <th>count</th>\n",
       "      <td>9367.000000</td>\n",
       "    </tr>\n",
       "    <tr>\n",
       "      <th>mean</th>\n",
       "      <td>4.193338</td>\n",
       "    </tr>\n",
       "    <tr>\n",
       "      <th>std</th>\n",
       "      <td>0.537431</td>\n",
       "    </tr>\n",
       "    <tr>\n",
       "      <th>min</th>\n",
       "      <td>1.000000</td>\n",
       "    </tr>\n",
       "    <tr>\n",
       "      <th>25%</th>\n",
       "      <td>4.000000</td>\n",
       "    </tr>\n",
       "    <tr>\n",
       "      <th>50%</th>\n",
       "      <td>4.300000</td>\n",
       "    </tr>\n",
       "    <tr>\n",
       "      <th>75%</th>\n",
       "      <td>4.500000</td>\n",
       "    </tr>\n",
       "    <tr>\n",
       "      <th>max</th>\n",
       "      <td>19.000000</td>\n",
       "    </tr>\n",
       "  </tbody>\n",
       "</table>\n",
       "</div>"
      ],
      "text/plain": [
       "            Rating\n",
       "count  9367.000000\n",
       "mean      4.193338\n",
       "std       0.537431\n",
       "min       1.000000\n",
       "25%       4.000000\n",
       "50%       4.300000\n",
       "75%       4.500000\n",
       "max      19.000000"
      ]
     },
     "execution_count": 10,
     "metadata": {},
     "output_type": "execute_result"
    }
   ],
   "source": [
    "df.describe()"
   ]
  },
  {
   "cell_type": "markdown",
   "id": "b9b85fc6",
   "metadata": {
    "papermill": {
     "duration": 0.025511,
     "end_time": "2024-07-05T12:35:09.919196",
     "exception": false,
     "start_time": "2024-07-05T12:35:09.893685",
     "status": "completed"
    },
    "tags": []
   },
   "source": [
    "###  How to make 'size' a numeric column"
   ]
  },
  {
   "cell_type": "code",
   "execution_count": 11,
   "id": "9a8c7c08",
   "metadata": {
    "papermill": {
     "duration": 0.041766,
     "end_time": "2024-07-05T12:35:09.987983",
     "exception": false,
     "start_time": "2024-07-05T12:35:09.946217",
     "status": "completed"
    },
    "tags": []
   },
   "outputs": [
    {
     "data": {
      "text/plain": [
       "array(['19M', '14M', '8.7M', '25M', '2.8M', '5.6M', '29M', '33M', '3.1M',\n",
       "       '28M', '12M', '20M', '21M', '37M', '2.7M', '5.5M', '17M', '39M',\n",
       "       '31M', '4.2M', '7.0M', '23M', '6.0M', '6.1M', '4.6M', '9.2M',\n",
       "       '5.2M', '11M', '24M', 'Varies with device', '9.4M', '15M', '10M',\n",
       "       '1.2M', '26M', '8.0M', '7.9M', '56M', '57M', '35M', '54M', '201k',\n",
       "       '3.6M', '5.7M', '8.6M', '2.4M', '27M', '2.5M', '16M', '3.4M',\n",
       "       '8.9M', '3.9M', '2.9M', '38M', '32M', '5.4M', '18M', '1.1M',\n",
       "       '2.2M', '4.5M', '9.8M', '52M', '9.0M', '6.7M', '30M', '2.6M',\n",
       "       '7.1M', '3.7M', '22M', '7.4M', '6.4M', '3.2M', '8.2M', '9.9M',\n",
       "       '4.9M', '9.5M', '5.0M', '5.9M', '13M', '73M', '6.8M', '3.5M',\n",
       "       '4.0M', '2.3M', '7.2M', '2.1M', '42M', '7.3M', '9.1M', '55M',\n",
       "       '23k', '6.5M', '1.5M', '7.5M', '51M', '41M', '48M', '8.5M', '46M',\n",
       "       '8.3M', '4.3M', '4.7M', '3.3M', '40M', '7.8M', '8.8M', '6.6M',\n",
       "       '5.1M', '61M', '66M', '79k', '8.4M', '118k', '44M', '695k', '1.6M',\n",
       "       '6.2M', '18k', '53M', '1.4M', '3.0M', '5.8M', '3.8M', '9.6M',\n",
       "       '45M', '63M', '49M', '77M', '4.4M', '4.8M', '70M', '6.9M', '9.3M',\n",
       "       '10.0M', '8.1M', '36M', '84M', '97M', '2.0M', '1.9M', '1.8M',\n",
       "       '5.3M', '47M', '556k', '526k', '76M', '7.6M', '59M', '9.7M', '78M',\n",
       "       '72M', '43M', '7.7M', '6.3M', '334k', '34M', '93M', '65M', '79M',\n",
       "       '100M', '58M', '50M', '68M', '64M', '67M', '60M', '94M', '232k',\n",
       "       '99M', '624k', '95M', '8.5k', '41k', '292k', '11k', '80M', '1.7M',\n",
       "       '74M', '62M', '69M', '75M', '98M', '85M', '82M', '96M', '87M',\n",
       "       '71M', '86M', '91M', '81M', '92M', '83M', '88M', '704k', '862k',\n",
       "       '899k', '378k', '266k', '375k', '1.3M', '975k', '980k', '4.1M',\n",
       "       '89M', '696k', '544k', '525k', '920k', '779k', '853k', '720k',\n",
       "       '713k', '772k', '318k', '58k', '241k', '196k', '857k', '51k',\n",
       "       '953k', '865k', '251k', '930k', '540k', '313k', '746k', '203k',\n",
       "       '26k', '314k', '239k', '371k', '220k', '730k', '756k', '91k',\n",
       "       '293k', '17k', '74k', '14k', '317k', '78k', '924k', '902k', '818k',\n",
       "       '81k', '939k', '169k', '45k', '475k', '965k', '90M', '545k', '61k',\n",
       "       '283k', '655k', '714k', '93k', '872k', '121k', '322k', '1.0M',\n",
       "       '976k', '172k', '238k', '549k', '206k', '954k', '444k', '717k',\n",
       "       '210k', '609k', '308k', '705k', '306k', '904k', '473k', '175k',\n",
       "       '350k', '383k', '454k', '421k', '70k', '812k', '442k', '842k',\n",
       "       '417k', '412k', '459k', '478k', '335k', '782k', '721k', '430k',\n",
       "       '429k', '192k', '200k', '460k', '728k', '496k', '816k', '414k',\n",
       "       '506k', '887k', '613k', '243k', '569k', '778k', '683k', '592k',\n",
       "       '319k', '186k', '840k', '647k', '191k', '373k', '437k', '598k',\n",
       "       '716k', '585k', '982k', '222k', '219k', '55k', '948k', '323k',\n",
       "       '691k', '511k', '951k', '963k', '25k', '554k', '351k', '27k',\n",
       "       '82k', '208k', '913k', '514k', '551k', '29k', '103k', '898k',\n",
       "       '743k', '116k', '153k', '209k', '353k', '499k', '173k', '597k',\n",
       "       '809k', '122k', '411k', '400k', '801k', '787k', '237k', '50k',\n",
       "       '643k', '986k', '97k', '516k', '837k', '780k', '961k', '269k',\n",
       "       '20k', '498k', '600k', '749k', '642k', '881k', '72k', '656k',\n",
       "       '601k', '221k', '228k', '108k', '940k', '176k', '33k', '663k',\n",
       "       '34k', '942k', '259k', '164k', '458k', '245k', '629k', '28k',\n",
       "       '288k', '775k', '785k', '636k', '916k', '994k', '309k', '485k',\n",
       "       '914k', '903k', '608k', '500k', '54k', '562k', '847k', '957k',\n",
       "       '688k', '811k', '270k', '48k', '329k', '523k', '921k', '874k',\n",
       "       '981k', '784k', '280k', '24k', '518k', '754k', '892k', '154k',\n",
       "       '860k', '364k', '387k', '626k', '161k', '879k', '39k', '970k',\n",
       "       '170k', '141k', '160k', '144k', '143k', '190k', '376k', '193k',\n",
       "       '246k', '73k', '658k', '992k', '253k', '420k', '404k', '1,000+',\n",
       "       '470k', '226k', '240k', '89k', '234k', '257k', '861k', '467k',\n",
       "       '157k', '44k', '676k', '67k', '552k', '885k', '1020k', '582k',\n",
       "       '619k'], dtype=object)"
      ]
     },
     "execution_count": 11,
     "metadata": {},
     "output_type": "execute_result"
    }
   ],
   "source": [
    "df['Size'].unique()"
   ]
  },
  {
   "cell_type": "markdown",
   "id": "5ad0c554",
   "metadata": {
    "papermill": {
     "duration": 0.026005,
     "end_time": "2024-07-05T12:35:10.039888",
     "exception": false,
     "start_time": "2024-07-05T12:35:10.013883",
     "status": "completed"
    },
    "tags": []
   },
   "source": [
    "<div class=\"alert alert-block alert-warning\" style=\"background-color: skyblue; color: black;\">\n",
    "  <h3>'Size' column Observations</h3>\n",
    "  <p>1 . Varies with device</p>\n",
    "  <p>2. k (kilo bytes)</p>\n",
    "  <p>3. M (mega bytes)</p>\n",
    "</div>"
   ]
  },
  {
   "cell_type": "code",
   "execution_count": 12,
   "id": "6011081a",
   "metadata": {
    "papermill": {
     "duration": 0.037276,
     "end_time": "2024-07-05T12:35:10.103580",
     "exception": false,
     "start_time": "2024-07-05T12:35:10.066304",
     "status": "completed"
    },
    "tags": []
   },
   "outputs": [
    {
     "data": {
      "text/plain": [
       "0"
      ]
     },
     "execution_count": 12,
     "metadata": {},
     "output_type": "execute_result"
    }
   ],
   "source": [
    "# checking if there is any missing values\n",
    "df['Size'].isnull().sum()"
   ]
  },
  {
   "cell_type": "markdown",
   "id": "635d6ca0",
   "metadata": {
    "papermill": {
     "duration": 0.026279,
     "end_time": "2024-07-05T12:35:10.156037",
     "exception": false,
     "start_time": "2024-07-05T12:35:10.129758",
     "status": "completed"
    },
    "tags": []
   },
   "source": [
    "<div style=\"padding:20px; \n",
    "            color:#36FF00;\n",
    "            margin:10px;\n",
    "            font-size:110%;\n",
    "            display:fill;\n",
    "            border-radius:10px;\n",
    "            border-style: solid;\n",
    "            border-color: #36FF00;\n",
    "            background-color:#000000;\n",
    "            overflow:hidden;\n",
    "            font-weight:500\">No missing values !</div>"
   ]
  },
  {
   "cell_type": "code",
   "execution_count": 13,
   "id": "ca8358d5",
   "metadata": {
    "papermill": {
     "duration": 0.045012,
     "end_time": "2024-07-05T12:35:10.226778",
     "exception": false,
     "start_time": "2024-07-05T12:35:10.181766",
     "status": "completed"
    },
    "tags": []
   },
   "outputs": [
    {
     "data": {
      "text/plain": [
       "8829"
      ]
     },
     "execution_count": 13,
     "metadata": {},
     "output_type": "execute_result"
    }
   ],
   "source": [
    "# Find the values having 'M' in them\n",
    "df['Size'].loc[df['Size'].str.contains('M')].value_counts().sum()"
   ]
  },
  {
   "cell_type": "code",
   "execution_count": 14,
   "id": "42b7fa32",
   "metadata": {
    "papermill": {
     "duration": 0.045099,
     "end_time": "2024-07-05T12:35:10.298354",
     "exception": false,
     "start_time": "2024-07-05T12:35:10.253255",
     "status": "completed"
    },
    "tags": []
   },
   "outputs": [
    {
     "data": {
      "text/plain": [
       "316"
      ]
     },
     "execution_count": 14,
     "metadata": {},
     "output_type": "execute_result"
    }
   ],
   "source": [
    "# Find the values having 'k' in them\n",
    "df['Size'].loc[df['Size'].str.contains('k')].value_counts().sum()"
   ]
  },
  {
   "cell_type": "code",
   "execution_count": 15,
   "id": "6c0c6477",
   "metadata": {
    "papermill": {
     "duration": 0.044193,
     "end_time": "2024-07-05T12:35:10.368410",
     "exception": false,
     "start_time": "2024-07-05T12:35:10.324217",
     "status": "completed"
    },
    "tags": []
   },
   "outputs": [
    {
     "data": {
      "text/plain": [
       "1695"
      ]
     },
     "execution_count": 15,
     "metadata": {},
     "output_type": "execute_result"
    }
   ],
   "source": [
    "# Find the values having 'Varies with device' in them\n",
    "df['Size'].loc[df['Size'].str.contains('Varies with device')].value_counts().sum()"
   ]
  },
  {
   "cell_type": "code",
   "execution_count": 16,
   "id": "d043fe5b",
   "metadata": {
    "papermill": {
     "duration": 0.043258,
     "end_time": "2024-07-05T12:35:10.437589",
     "exception": false,
     "start_time": "2024-07-05T12:35:10.394331",
     "status": "completed"
    },
    "tags": []
   },
   "outputs": [
    {
     "data": {
      "text/plain": [
       "10841"
      ]
     },
     "execution_count": 16,
     "metadata": {},
     "output_type": "execute_result"
    }
   ],
   "source": [
    "# Length of the dataframe\n",
    "len(df['Size'])"
   ]
  },
  {
   "cell_type": "code",
   "execution_count": 17,
   "id": "437ec799",
   "metadata": {
    "papermill": {
     "duration": 0.041518,
     "end_time": "2024-07-05T12:35:10.507561",
     "exception": false,
     "start_time": "2024-07-05T12:35:10.466043",
     "status": "completed"
    },
    "tags": []
   },
   "outputs": [
    {
     "data": {
      "text/plain": [
       "10841"
      ]
     },
     "execution_count": 17,
     "metadata": {},
     "output_type": "execute_result"
    }
   ],
   "source": [
    "df['Size'].value_counts().sum()"
   ]
  },
  {
   "cell_type": "markdown",
   "id": "92656dac",
   "metadata": {
    "papermill": {
     "duration": 0.027594,
     "end_time": "2024-07-05T12:35:10.564310",
     "exception": false,
     "start_time": "2024-07-05T12:35:10.536716",
     "status": "completed"
    },
    "tags": []
   },
   "source": [
    "### Convert the whole 'Size' column into Bytes"
   ]
  },
  {
   "cell_type": "markdown",
   "id": "628b8c35",
   "metadata": {
    "papermill": {
     "duration": 0.025665,
     "end_time": "2024-07-05T12:35:10.616271",
     "exception": false,
     "start_time": "2024-07-05T12:35:10.590606",
     "status": "completed"
    },
    "tags": []
   },
   "source": [
    "<h2 align=\"center\"> <font color='green'>Define a Function </font></h2>"
   ]
  },
  {
   "cell_type": "code",
   "execution_count": 18,
   "id": "3a13ac6a",
   "metadata": {
    "papermill": {
     "duration": 0.036949,
     "end_time": "2024-07-05T12:35:10.679555",
     "exception": false,
     "start_time": "2024-07-05T12:35:10.642606",
     "status": "completed"
    },
    "tags": []
   },
   "outputs": [],
   "source": [
    "def convert_size(size):\n",
    "    if isinstance(size , str):\n",
    "        if 'k' in size:\n",
    "            return float(size.replace('k' , \"\")) * 1024\n",
    "        elif 'M' in size:\n",
    "            return float(size.replace('M' , \"\")) * 1024 * 1024\n",
    "        elif 'Varies with device' in size:\n",
    "            return np.nan\n",
    "    return float(size) if isinstance(size, (int, float)) else np.nan   "
   ]
  },
  {
   "cell_type": "code",
   "execution_count": 19,
   "id": "6a1e5e8b",
   "metadata": {
    "papermill": {
     "duration": 0.044875,
     "end_time": "2024-07-05T12:35:10.751063",
     "exception": false,
     "start_time": "2024-07-05T12:35:10.706188",
     "status": "completed"
    },
    "tags": []
   },
   "outputs": [],
   "source": [
    "df['Size'] = df['Size'].apply(convert_size)"
   ]
  },
  {
   "cell_type": "code",
   "execution_count": 20,
   "id": "240fa802",
   "metadata": {
    "papermill": {
     "duration": 0.043553,
     "end_time": "2024-07-05T12:35:10.821272",
     "exception": false,
     "start_time": "2024-07-05T12:35:10.777719",
     "status": "completed"
    },
    "tags": []
   },
   "outputs": [
    {
     "data": {
      "text/plain": [
       "array([1.99229440e+07, 1.46800640e+07, 9.12261120e+06, 2.62144000e+07,\n",
       "       2.93601280e+06, 5.87202560e+06, 3.04087040e+07, 3.46030080e+07,\n",
       "       3.25058560e+06, 2.93601280e+07, 1.25829120e+07, 2.09715200e+07,\n",
       "       2.20200960e+07, 3.87973120e+07, 2.83115520e+06, 5.76716800e+06,\n",
       "       1.78257920e+07, 4.08944640e+07, 3.25058560e+07, 4.40401920e+06,\n",
       "       7.34003200e+06, 2.41172480e+07, 6.29145600e+06, 6.39631360e+06,\n",
       "       4.82344960e+06, 9.64689920e+06, 5.45259520e+06, 1.15343360e+07,\n",
       "       2.51658240e+07,            nan, 9.85661440e+06, 1.57286400e+07,\n",
       "       1.04857600e+07, 1.25829120e+06, 2.72629760e+07, 8.38860800e+06,\n",
       "       8.28375040e+06, 5.87202560e+07, 5.97688320e+07, 3.67001600e+07,\n",
       "       5.66231040e+07, 2.05824000e+05, 3.77487360e+06, 5.97688320e+06,\n",
       "       9.01775360e+06, 2.51658240e+06, 2.83115520e+07, 2.62144000e+06,\n",
       "       1.67772160e+07, 3.56515840e+06, 9.33232640e+06, 4.08944640e+06,\n",
       "       3.04087040e+06, 3.98458880e+07, 3.35544320e+07, 5.66231040e+06,\n",
       "       1.88743680e+07, 1.15343360e+06, 2.30686720e+06, 4.71859200e+06,\n",
       "       1.02760448e+07, 5.45259520e+07, 9.43718400e+06, 7.02545920e+06,\n",
       "       3.14572800e+07, 2.72629760e+06, 7.44488960e+06, 3.87973120e+06,\n",
       "       2.30686720e+07, 7.75946240e+06, 6.71088640e+06, 3.35544320e+06,\n",
       "       8.59832320e+06, 1.03809024e+07, 5.13802240e+06, 9.96147200e+06,\n",
       "       5.24288000e+06, 6.18659840e+06, 1.36314880e+07, 7.65460480e+07,\n",
       "       7.13031680e+06, 3.67001600e+06, 4.19430400e+06, 2.41172480e+06,\n",
       "       7.54974720e+06, 2.20200960e+06, 4.40401920e+07, 7.65460480e+06,\n",
       "       9.54204160e+06, 5.76716800e+07, 2.35520000e+04, 6.81574400e+06,\n",
       "       1.57286400e+06, 7.86432000e+06, 5.34773760e+07, 4.29916160e+07,\n",
       "       5.03316480e+07, 8.91289600e+06, 4.82344960e+07, 8.70318080e+06,\n",
       "       4.50887680e+06, 4.92830720e+06, 3.46030080e+06, 4.19430400e+07,\n",
       "       8.17889280e+06, 9.22746880e+06, 6.92060160e+06, 5.34773760e+06,\n",
       "       6.39631360e+07, 6.92060160e+07, 8.08960000e+04, 8.80803840e+06,\n",
       "       1.20832000e+05, 4.61373440e+07, 7.11680000e+05, 1.67772160e+06,\n",
       "       6.50117120e+06, 1.84320000e+04, 5.55745280e+07, 1.46800640e+06,\n",
       "       3.14572800e+06, 6.08174080e+06, 3.98458880e+06, 1.00663296e+07,\n",
       "       4.71859200e+07, 6.60602880e+07, 5.13802240e+07, 8.07403520e+07,\n",
       "       4.61373440e+06, 5.03316480e+06, 7.34003200e+07, 7.23517440e+06,\n",
       "       9.75175680e+06, 8.49346560e+06, 3.77487360e+07, 8.80803840e+07,\n",
       "       1.01711872e+08, 2.09715200e+06, 1.99229440e+06, 1.88743680e+06,\n",
       "       5.55745280e+06, 4.92830720e+07, 5.69344000e+05, 5.38624000e+05,\n",
       "       7.96917760e+07, 7.96917760e+06, 6.18659840e+07, 1.01711872e+07,\n",
       "       8.17889280e+07, 7.54974720e+07, 4.50887680e+07, 8.07403520e+06,\n",
       "       6.60602880e+06, 3.42016000e+05, 3.56515840e+07, 9.75175680e+07,\n",
       "       6.81574400e+07, 8.28375040e+07, 1.04857600e+08, 6.08174080e+07,\n",
       "       5.24288000e+07, 7.13031680e+07, 6.71088640e+07, 7.02545920e+07,\n",
       "       6.29145600e+07, 9.85661440e+07, 2.37568000e+05, 1.03809024e+08,\n",
       "       6.38976000e+05, 9.96147200e+07, 8.70400000e+03, 4.19840000e+04,\n",
       "       2.99008000e+05, 1.12640000e+04, 8.38860800e+07, 1.78257920e+06,\n",
       "       7.75946240e+07, 6.50117120e+07, 7.23517440e+07, 7.86432000e+07,\n",
       "       1.02760448e+08, 8.91289600e+07, 8.59832320e+07, 1.00663296e+08,\n",
       "       9.12261120e+07, 7.44488960e+07, 9.01775360e+07, 9.54204160e+07,\n",
       "       8.49346560e+07, 9.64689920e+07, 8.70318080e+07, 9.22746880e+07,\n",
       "       7.20896000e+05, 8.82688000e+05, 9.20576000e+05, 3.87072000e+05,\n",
       "       2.72384000e+05, 3.84000000e+05, 1.36314880e+06, 9.98400000e+05,\n",
       "       1.00352000e+06, 4.29916160e+06, 9.33232640e+07, 7.12704000e+05,\n",
       "       5.57056000e+05, 5.37600000e+05, 9.42080000e+05, 7.97696000e+05,\n",
       "       8.73472000e+05, 7.37280000e+05, 7.30112000e+05, 7.90528000e+05,\n",
       "       3.25632000e+05, 5.93920000e+04, 2.46784000e+05, 2.00704000e+05,\n",
       "       8.77568000e+05, 5.22240000e+04, 9.75872000e+05, 8.85760000e+05,\n",
       "       2.57024000e+05, 9.52320000e+05, 5.52960000e+05, 3.20512000e+05,\n",
       "       7.63904000e+05, 2.07872000e+05, 2.66240000e+04, 3.21536000e+05,\n",
       "       2.44736000e+05, 3.79904000e+05, 2.25280000e+05, 7.47520000e+05,\n",
       "       7.74144000e+05, 9.31840000e+04, 3.00032000e+05, 1.74080000e+04,\n",
       "       7.57760000e+04, 1.43360000e+04, 3.24608000e+05, 7.98720000e+04,\n",
       "       9.46176000e+05, 9.23648000e+05, 8.37632000e+05, 8.29440000e+04,\n",
       "       9.61536000e+05, 1.73056000e+05, 4.60800000e+04, 4.86400000e+05,\n",
       "       9.88160000e+05, 9.43718400e+07, 5.58080000e+05, 6.24640000e+04,\n",
       "       2.89792000e+05, 6.70720000e+05, 7.31136000e+05, 9.52320000e+04,\n",
       "       8.92928000e+05, 1.23904000e+05, 3.29728000e+05, 1.04857600e+06,\n",
       "       9.99424000e+05, 1.76128000e+05, 2.43712000e+05, 5.62176000e+05,\n",
       "       2.10944000e+05, 9.76896000e+05, 4.54656000e+05, 7.34208000e+05,\n",
       "       2.15040000e+05, 6.23616000e+05, 3.15392000e+05, 7.21920000e+05,\n",
       "       3.13344000e+05, 9.25696000e+05, 4.84352000e+05, 1.79200000e+05,\n",
       "       3.58400000e+05, 3.92192000e+05, 4.64896000e+05, 4.31104000e+05,\n",
       "       7.16800000e+04, 8.31488000e+05, 4.52608000e+05, 8.62208000e+05,\n",
       "       4.27008000e+05, 4.21888000e+05, 4.70016000e+05, 4.89472000e+05,\n",
       "       3.43040000e+05, 8.00768000e+05, 7.38304000e+05, 4.40320000e+05,\n",
       "       4.39296000e+05, 1.96608000e+05, 2.04800000e+05, 4.71040000e+05,\n",
       "       7.45472000e+05, 5.07904000e+05, 8.35584000e+05, 4.23936000e+05,\n",
       "       5.18144000e+05, 9.08288000e+05, 6.27712000e+05, 2.48832000e+05,\n",
       "       5.82656000e+05, 7.96672000e+05, 6.99392000e+05, 6.06208000e+05,\n",
       "       3.26656000e+05, 1.90464000e+05, 8.60160000e+05, 6.62528000e+05,\n",
       "       1.95584000e+05, 3.81952000e+05, 4.47488000e+05, 6.12352000e+05,\n",
       "       7.33184000e+05, 5.99040000e+05, 1.00556800e+06, 2.27328000e+05,\n",
       "       2.24256000e+05, 5.63200000e+04, 9.70752000e+05, 3.30752000e+05,\n",
       "       7.07584000e+05, 5.23264000e+05, 9.73824000e+05, 9.86112000e+05,\n",
       "       2.56000000e+04, 5.67296000e+05, 3.59424000e+05, 2.76480000e+04,\n",
       "       8.39680000e+04, 2.12992000e+05, 9.34912000e+05, 5.26336000e+05,\n",
       "       5.64224000e+05, 2.96960000e+04, 1.05472000e+05, 9.19552000e+05,\n",
       "       7.60832000e+05, 1.18784000e+05, 1.56672000e+05, 2.14016000e+05,\n",
       "       3.61472000e+05, 5.10976000e+05, 1.77152000e+05, 6.11328000e+05,\n",
       "       8.28416000e+05, 1.24928000e+05, 4.20864000e+05, 4.09600000e+05,\n",
       "       8.20224000e+05, 8.05888000e+05, 2.42688000e+05, 5.12000000e+04,\n",
       "       6.58432000e+05, 1.00966400e+06, 9.93280000e+04, 5.28384000e+05,\n",
       "       8.57088000e+05, 7.98720000e+05, 9.84064000e+05, 2.75456000e+05,\n",
       "       2.04800000e+04, 5.09952000e+05, 6.14400000e+05, 7.66976000e+05,\n",
       "       6.57408000e+05, 9.02144000e+05, 7.37280000e+04, 6.71744000e+05,\n",
       "       6.15424000e+05, 2.26304000e+05, 2.33472000e+05, 1.10592000e+05,\n",
       "       9.62560000e+05, 1.80224000e+05, 3.37920000e+04, 6.78912000e+05,\n",
       "       3.48160000e+04, 9.64608000e+05, 2.65216000e+05, 1.67936000e+05,\n",
       "       4.68992000e+05, 2.50880000e+05, 6.44096000e+05, 2.86720000e+04,\n",
       "       2.94912000e+05, 7.93600000e+05, 8.03840000e+05, 6.51264000e+05,\n",
       "       9.37984000e+05, 1.01785600e+06, 3.16416000e+05, 4.96640000e+05,\n",
       "       9.35936000e+05, 9.24672000e+05, 6.22592000e+05, 5.12000000e+05,\n",
       "       5.52960000e+04, 5.75488000e+05, 8.67328000e+05, 9.79968000e+05,\n",
       "       7.04512000e+05, 8.30464000e+05, 2.76480000e+05, 4.91520000e+04,\n",
       "       3.36896000e+05, 5.35552000e+05, 9.43104000e+05, 8.94976000e+05,\n",
       "       1.00454400e+06, 8.02816000e+05, 2.86720000e+05, 2.45760000e+04,\n",
       "       5.30432000e+05, 7.72096000e+05, 9.13408000e+05, 1.57696000e+05,\n",
       "       8.80640000e+05, 3.72736000e+05, 3.96288000e+05, 6.41024000e+05,\n",
       "       1.64864000e+05, 9.00096000e+05, 3.99360000e+04, 9.93280000e+05,\n",
       "       1.74080000e+05, 1.44384000e+05, 1.63840000e+05, 1.47456000e+05,\n",
       "       1.46432000e+05, 1.94560000e+05, 3.85024000e+05, 1.97632000e+05,\n",
       "       2.51904000e+05, 7.47520000e+04, 6.73792000e+05, 1.01580800e+06,\n",
       "       2.59072000e+05, 4.30080000e+05, 4.13696000e+05, 4.81280000e+05,\n",
       "       2.31424000e+05, 2.45760000e+05, 9.11360000e+04, 2.39616000e+05,\n",
       "       2.63168000e+05, 8.81664000e+05, 4.78208000e+05, 1.60768000e+05,\n",
       "       4.50560000e+04, 6.92224000e+05, 6.86080000e+04, 5.65248000e+05,\n",
       "       9.06240000e+05, 1.04448000e+06, 5.95968000e+05, 6.33856000e+05])"
      ]
     },
     "execution_count": 20,
     "metadata": {},
     "output_type": "execute_result"
    }
   ],
   "source": [
    "df['Size'].unique()"
   ]
  },
  {
   "cell_type": "code",
   "execution_count": 21,
   "id": "0c1fbee1",
   "metadata": {
    "papermill": {
     "duration": 0.050811,
     "end_time": "2024-07-05T12:35:10.898850",
     "exception": false,
     "start_time": "2024-07-05T12:35:10.848039",
     "status": "completed"
    },
    "tags": []
   },
   "outputs": [
    {
     "data": {
      "text/html": [
       "<div>\n",
       "<style scoped>\n",
       "    .dataframe tbody tr th:only-of-type {\n",
       "        vertical-align: middle;\n",
       "    }\n",
       "\n",
       "    .dataframe tbody tr th {\n",
       "        vertical-align: top;\n",
       "    }\n",
       "\n",
       "    .dataframe thead th {\n",
       "        text-align: right;\n",
       "    }\n",
       "</style>\n",
       "<table border=\"1\" class=\"dataframe\">\n",
       "  <thead>\n",
       "    <tr style=\"text-align: right;\">\n",
       "      <th></th>\n",
       "      <th>App</th>\n",
       "      <th>Category</th>\n",
       "      <th>Rating</th>\n",
       "      <th>Reviews</th>\n",
       "      <th>Size</th>\n",
       "      <th>Installs</th>\n",
       "      <th>Type</th>\n",
       "      <th>Price</th>\n",
       "      <th>Content Rating</th>\n",
       "      <th>Genres</th>\n",
       "      <th>Last Updated</th>\n",
       "      <th>Current Ver</th>\n",
       "      <th>Android Ver</th>\n",
       "    </tr>\n",
       "  </thead>\n",
       "  <tbody>\n",
       "    <tr>\n",
       "      <th>10836</th>\n",
       "      <td>Sya9a Maroc - FR</td>\n",
       "      <td>FAMILY</td>\n",
       "      <td>4.5</td>\n",
       "      <td>38</td>\n",
       "      <td>55574528.0</td>\n",
       "      <td>5,000+</td>\n",
       "      <td>Free</td>\n",
       "      <td>0</td>\n",
       "      <td>Everyone</td>\n",
       "      <td>Education</td>\n",
       "      <td>July 25, 2017</td>\n",
       "      <td>1.48</td>\n",
       "      <td>4.1 and up</td>\n",
       "    </tr>\n",
       "    <tr>\n",
       "      <th>10837</th>\n",
       "      <td>Fr. Mike Schmitz Audio Teachings</td>\n",
       "      <td>FAMILY</td>\n",
       "      <td>5.0</td>\n",
       "      <td>4</td>\n",
       "      <td>3774873.6</td>\n",
       "      <td>100+</td>\n",
       "      <td>Free</td>\n",
       "      <td>0</td>\n",
       "      <td>Everyone</td>\n",
       "      <td>Education</td>\n",
       "      <td>July 6, 2018</td>\n",
       "      <td>1.0</td>\n",
       "      <td>4.1 and up</td>\n",
       "    </tr>\n",
       "    <tr>\n",
       "      <th>10838</th>\n",
       "      <td>Parkinson Exercices FR</td>\n",
       "      <td>MEDICAL</td>\n",
       "      <td>NaN</td>\n",
       "      <td>3</td>\n",
       "      <td>9961472.0</td>\n",
       "      <td>1,000+</td>\n",
       "      <td>Free</td>\n",
       "      <td>0</td>\n",
       "      <td>Everyone</td>\n",
       "      <td>Medical</td>\n",
       "      <td>January 20, 2017</td>\n",
       "      <td>1.0</td>\n",
       "      <td>2.2 and up</td>\n",
       "    </tr>\n",
       "    <tr>\n",
       "      <th>10839</th>\n",
       "      <td>The SCP Foundation DB fr nn5n</td>\n",
       "      <td>BOOKS_AND_REFERENCE</td>\n",
       "      <td>4.5</td>\n",
       "      <td>114</td>\n",
       "      <td>NaN</td>\n",
       "      <td>1,000+</td>\n",
       "      <td>Free</td>\n",
       "      <td>0</td>\n",
       "      <td>Mature 17+</td>\n",
       "      <td>Books &amp; Reference</td>\n",
       "      <td>January 19, 2015</td>\n",
       "      <td>Varies with device</td>\n",
       "      <td>Varies with device</td>\n",
       "    </tr>\n",
       "    <tr>\n",
       "      <th>10840</th>\n",
       "      <td>iHoroscope - 2018 Daily Horoscope &amp; Astrology</td>\n",
       "      <td>LIFESTYLE</td>\n",
       "      <td>4.5</td>\n",
       "      <td>398307</td>\n",
       "      <td>19922944.0</td>\n",
       "      <td>10,000,000+</td>\n",
       "      <td>Free</td>\n",
       "      <td>0</td>\n",
       "      <td>Everyone</td>\n",
       "      <td>Lifestyle</td>\n",
       "      <td>July 25, 2018</td>\n",
       "      <td>Varies with device</td>\n",
       "      <td>Varies with device</td>\n",
       "    </tr>\n",
       "  </tbody>\n",
       "</table>\n",
       "</div>"
      ],
      "text/plain": [
       "                                                 App             Category  \\\n",
       "10836                               Sya9a Maroc - FR               FAMILY   \n",
       "10837               Fr. Mike Schmitz Audio Teachings               FAMILY   \n",
       "10838                         Parkinson Exercices FR              MEDICAL   \n",
       "10839                  The SCP Foundation DB fr nn5n  BOOKS_AND_REFERENCE   \n",
       "10840  iHoroscope - 2018 Daily Horoscope & Astrology            LIFESTYLE   \n",
       "\n",
       "       Rating Reviews        Size     Installs  Type Price Content Rating  \\\n",
       "10836     4.5      38  55574528.0       5,000+  Free     0       Everyone   \n",
       "10837     5.0       4   3774873.6         100+  Free     0       Everyone   \n",
       "10838     NaN       3   9961472.0       1,000+  Free     0       Everyone   \n",
       "10839     4.5     114         NaN       1,000+  Free     0     Mature 17+   \n",
       "10840     4.5  398307  19922944.0  10,000,000+  Free     0       Everyone   \n",
       "\n",
       "                  Genres      Last Updated         Current Ver  \\\n",
       "10836          Education     July 25, 2017                1.48   \n",
       "10837          Education      July 6, 2018                 1.0   \n",
       "10838            Medical  January 20, 2017                 1.0   \n",
       "10839  Books & Reference  January 19, 2015  Varies with device   \n",
       "10840          Lifestyle     July 25, 2018  Varies with device   \n",
       "\n",
       "              Android Ver  \n",
       "10836          4.1 and up  \n",
       "10837          4.1 and up  \n",
       "10838          2.2 and up  \n",
       "10839  Varies with device  \n",
       "10840  Varies with device  "
      ]
     },
     "execution_count": 21,
     "metadata": {},
     "output_type": "execute_result"
    }
   ],
   "source": [
    "df.tail()"
   ]
  },
  {
   "cell_type": "code",
   "execution_count": 22,
   "id": "2fb1242b",
   "metadata": {
    "papermill": {
     "duration": 0.039977,
     "end_time": "2024-07-05T12:35:10.966386",
     "exception": false,
     "start_time": "2024-07-05T12:35:10.926409",
     "status": "completed"
    },
    "tags": []
   },
   "outputs": [
    {
     "data": {
      "text/plain": [
       "dtype('float64')"
      ]
     },
     "execution_count": 22,
     "metadata": {},
     "output_type": "execute_result"
    }
   ],
   "source": [
    "df['Size'].dtype"
   ]
  },
  {
   "cell_type": "code",
   "execution_count": 23,
   "id": "5da13143",
   "metadata": {
    "papermill": {
     "duration": 0.037004,
     "end_time": "2024-07-05T12:35:11.030845",
     "exception": false,
     "start_time": "2024-07-05T12:35:10.993841",
     "status": "completed"
    },
    "tags": []
   },
   "outputs": [],
   "source": [
    "# Rename the column\n",
    "df.rename(columns={'Size': 'Size_in_bytes'}, inplace=True)"
   ]
  },
  {
   "cell_type": "code",
   "execution_count": 24,
   "id": "1a228b4e",
   "metadata": {
    "papermill": {
     "duration": 0.054832,
     "end_time": "2024-07-05T12:35:11.115694",
     "exception": false,
     "start_time": "2024-07-05T12:35:11.060862",
     "status": "completed"
    },
    "tags": []
   },
   "outputs": [
    {
     "data": {
      "text/html": [
       "<div>\n",
       "<style scoped>\n",
       "    .dataframe tbody tr th:only-of-type {\n",
       "        vertical-align: middle;\n",
       "    }\n",
       "\n",
       "    .dataframe tbody tr th {\n",
       "        vertical-align: top;\n",
       "    }\n",
       "\n",
       "    .dataframe thead th {\n",
       "        text-align: right;\n",
       "    }\n",
       "</style>\n",
       "<table border=\"1\" class=\"dataframe\">\n",
       "  <thead>\n",
       "    <tr style=\"text-align: right;\">\n",
       "      <th></th>\n",
       "      <th>App</th>\n",
       "      <th>Category</th>\n",
       "      <th>Rating</th>\n",
       "      <th>Reviews</th>\n",
       "      <th>Size_in_bytes</th>\n",
       "      <th>Installs</th>\n",
       "      <th>Type</th>\n",
       "      <th>Price</th>\n",
       "      <th>Content Rating</th>\n",
       "      <th>Genres</th>\n",
       "      <th>Last Updated</th>\n",
       "      <th>Current Ver</th>\n",
       "      <th>Android Ver</th>\n",
       "    </tr>\n",
       "  </thead>\n",
       "  <tbody>\n",
       "    <tr>\n",
       "      <th>0</th>\n",
       "      <td>Photo Editor &amp; Candy Camera &amp; Grid &amp; ScrapBook</td>\n",
       "      <td>ART_AND_DESIGN</td>\n",
       "      <td>4.1</td>\n",
       "      <td>159</td>\n",
       "      <td>19922944.0</td>\n",
       "      <td>10,000+</td>\n",
       "      <td>Free</td>\n",
       "      <td>0</td>\n",
       "      <td>Everyone</td>\n",
       "      <td>Art &amp; Design</td>\n",
       "      <td>January 7, 2018</td>\n",
       "      <td>1.0.0</td>\n",
       "      <td>4.0.3 and up</td>\n",
       "    </tr>\n",
       "    <tr>\n",
       "      <th>1</th>\n",
       "      <td>Coloring book moana</td>\n",
       "      <td>ART_AND_DESIGN</td>\n",
       "      <td>3.9</td>\n",
       "      <td>967</td>\n",
       "      <td>14680064.0</td>\n",
       "      <td>500,000+</td>\n",
       "      <td>Free</td>\n",
       "      <td>0</td>\n",
       "      <td>Everyone</td>\n",
       "      <td>Art &amp; Design;Pretend Play</td>\n",
       "      <td>January 15, 2018</td>\n",
       "      <td>2.0.0</td>\n",
       "      <td>4.0.3 and up</td>\n",
       "    </tr>\n",
       "  </tbody>\n",
       "</table>\n",
       "</div>"
      ],
      "text/plain": [
       "                                              App        Category  Rating  \\\n",
       "0  Photo Editor & Candy Camera & Grid & ScrapBook  ART_AND_DESIGN     4.1   \n",
       "1                             Coloring book moana  ART_AND_DESIGN     3.9   \n",
       "\n",
       "  Reviews  Size_in_bytes  Installs  Type Price Content Rating  \\\n",
       "0     159     19922944.0   10,000+  Free     0       Everyone   \n",
       "1     967     14680064.0  500,000+  Free     0       Everyone   \n",
       "\n",
       "                      Genres      Last Updated Current Ver   Android Ver  \n",
       "0               Art & Design   January 7, 2018       1.0.0  4.0.3 and up  \n",
       "1  Art & Design;Pretend Play  January 15, 2018       2.0.0  4.0.3 and up  "
      ]
     },
     "execution_count": 24,
     "metadata": {},
     "output_type": "execute_result"
    }
   ],
   "source": [
    "df.head(2)"
   ]
  },
  {
   "cell_type": "code",
   "execution_count": 25,
   "id": "58ed6677",
   "metadata": {
    "papermill": {
     "duration": 0.036956,
     "end_time": "2024-07-05T12:35:11.182982",
     "exception": false,
     "start_time": "2024-07-05T12:35:11.146026",
     "status": "completed"
    },
    "tags": []
   },
   "outputs": [
    {
     "name": "stdout",
     "output_type": "stream",
     "text": [
      "float64\n"
     ]
    }
   ],
   "source": [
    "print(df['Size_in_bytes'].dtype)"
   ]
  },
  {
   "cell_type": "code",
   "execution_count": 26,
   "id": "6fcee01c",
   "metadata": {
    "papermill": {
     "duration": 0.040853,
     "end_time": "2024-07-05T12:35:11.251426",
     "exception": false,
     "start_time": "2024-07-05T12:35:11.210573",
     "status": "completed"
    },
    "tags": []
   },
   "outputs": [],
   "source": [
    "# making a new column for size in MB\n",
    "df['Size_in_Mb'] = df['Size_in_bytes'].apply(lambda x : x/(1024*1024))"
   ]
  },
  {
   "cell_type": "code",
   "execution_count": 27,
   "id": "3ec6d1ee",
   "metadata": {
    "papermill": {
     "duration": 0.0415,
     "end_time": "2024-07-05T12:35:11.320113",
     "exception": false,
     "start_time": "2024-07-05T12:35:11.278613",
     "status": "completed"
    },
    "tags": []
   },
   "outputs": [],
   "source": [
    "# making a new column for size in Kb\n",
    "df['Size_in_Kb'] = df['Size_in_bytes'].apply(lambda x : x/(1024))"
   ]
  },
  {
   "cell_type": "code",
   "execution_count": 28,
   "id": "942ad6b0",
   "metadata": {
    "papermill": {
     "duration": 0.053211,
     "end_time": "2024-07-05T12:35:11.400512",
     "exception": false,
     "start_time": "2024-07-05T12:35:11.347301",
     "status": "completed"
    },
    "tags": []
   },
   "outputs": [
    {
     "data": {
      "text/html": [
       "<div>\n",
       "<style scoped>\n",
       "    .dataframe tbody tr th:only-of-type {\n",
       "        vertical-align: middle;\n",
       "    }\n",
       "\n",
       "    .dataframe tbody tr th {\n",
       "        vertical-align: top;\n",
       "    }\n",
       "\n",
       "    .dataframe thead th {\n",
       "        text-align: right;\n",
       "    }\n",
       "</style>\n",
       "<table border=\"1\" class=\"dataframe\">\n",
       "  <thead>\n",
       "    <tr style=\"text-align: right;\">\n",
       "      <th></th>\n",
       "      <th>App</th>\n",
       "      <th>Category</th>\n",
       "      <th>Rating</th>\n",
       "      <th>Reviews</th>\n",
       "      <th>Size_in_bytes</th>\n",
       "      <th>Installs</th>\n",
       "      <th>Type</th>\n",
       "      <th>Price</th>\n",
       "      <th>Content Rating</th>\n",
       "      <th>Genres</th>\n",
       "      <th>Last Updated</th>\n",
       "      <th>Current Ver</th>\n",
       "      <th>Android Ver</th>\n",
       "      <th>Size_in_Mb</th>\n",
       "      <th>Size_in_Kb</th>\n",
       "    </tr>\n",
       "  </thead>\n",
       "  <tbody>\n",
       "    <tr>\n",
       "      <th>0</th>\n",
       "      <td>Photo Editor &amp; Candy Camera &amp; Grid &amp; ScrapBook</td>\n",
       "      <td>ART_AND_DESIGN</td>\n",
       "      <td>4.1</td>\n",
       "      <td>159</td>\n",
       "      <td>19922944.0</td>\n",
       "      <td>10,000+</td>\n",
       "      <td>Free</td>\n",
       "      <td>0</td>\n",
       "      <td>Everyone</td>\n",
       "      <td>Art &amp; Design</td>\n",
       "      <td>January 7, 2018</td>\n",
       "      <td>1.0.0</td>\n",
       "      <td>4.0.3 and up</td>\n",
       "      <td>19.0</td>\n",
       "      <td>19456.0</td>\n",
       "    </tr>\n",
       "    <tr>\n",
       "      <th>1</th>\n",
       "      <td>Coloring book moana</td>\n",
       "      <td>ART_AND_DESIGN</td>\n",
       "      <td>3.9</td>\n",
       "      <td>967</td>\n",
       "      <td>14680064.0</td>\n",
       "      <td>500,000+</td>\n",
       "      <td>Free</td>\n",
       "      <td>0</td>\n",
       "      <td>Everyone</td>\n",
       "      <td>Art &amp; Design;Pretend Play</td>\n",
       "      <td>January 15, 2018</td>\n",
       "      <td>2.0.0</td>\n",
       "      <td>4.0.3 and up</td>\n",
       "      <td>14.0</td>\n",
       "      <td>14336.0</td>\n",
       "    </tr>\n",
       "    <tr>\n",
       "      <th>2</th>\n",
       "      <td>U Launcher Lite – FREE Live Cool Themes, Hide ...</td>\n",
       "      <td>ART_AND_DESIGN</td>\n",
       "      <td>4.7</td>\n",
       "      <td>87510</td>\n",
       "      <td>9122611.2</td>\n",
       "      <td>5,000,000+</td>\n",
       "      <td>Free</td>\n",
       "      <td>0</td>\n",
       "      <td>Everyone</td>\n",
       "      <td>Art &amp; Design</td>\n",
       "      <td>August 1, 2018</td>\n",
       "      <td>1.2.4</td>\n",
       "      <td>4.0.3 and up</td>\n",
       "      <td>8.7</td>\n",
       "      <td>8908.8</td>\n",
       "    </tr>\n",
       "    <tr>\n",
       "      <th>3</th>\n",
       "      <td>Sketch - Draw &amp; Paint</td>\n",
       "      <td>ART_AND_DESIGN</td>\n",
       "      <td>4.5</td>\n",
       "      <td>215644</td>\n",
       "      <td>26214400.0</td>\n",
       "      <td>50,000,000+</td>\n",
       "      <td>Free</td>\n",
       "      <td>0</td>\n",
       "      <td>Teen</td>\n",
       "      <td>Art &amp; Design</td>\n",
       "      <td>June 8, 2018</td>\n",
       "      <td>Varies with device</td>\n",
       "      <td>4.2 and up</td>\n",
       "      <td>25.0</td>\n",
       "      <td>25600.0</td>\n",
       "    </tr>\n",
       "    <tr>\n",
       "      <th>4</th>\n",
       "      <td>Pixel Draw - Number Art Coloring Book</td>\n",
       "      <td>ART_AND_DESIGN</td>\n",
       "      <td>4.3</td>\n",
       "      <td>967</td>\n",
       "      <td>2936012.8</td>\n",
       "      <td>100,000+</td>\n",
       "      <td>Free</td>\n",
       "      <td>0</td>\n",
       "      <td>Everyone</td>\n",
       "      <td>Art &amp; Design;Creativity</td>\n",
       "      <td>June 20, 2018</td>\n",
       "      <td>1.1</td>\n",
       "      <td>4.4 and up</td>\n",
       "      <td>2.8</td>\n",
       "      <td>2867.2</td>\n",
       "    </tr>\n",
       "  </tbody>\n",
       "</table>\n",
       "</div>"
      ],
      "text/plain": [
       "                                                 App        Category  Rating  \\\n",
       "0     Photo Editor & Candy Camera & Grid & ScrapBook  ART_AND_DESIGN     4.1   \n",
       "1                                Coloring book moana  ART_AND_DESIGN     3.9   \n",
       "2  U Launcher Lite – FREE Live Cool Themes, Hide ...  ART_AND_DESIGN     4.7   \n",
       "3                              Sketch - Draw & Paint  ART_AND_DESIGN     4.5   \n",
       "4              Pixel Draw - Number Art Coloring Book  ART_AND_DESIGN     4.3   \n",
       "\n",
       "  Reviews  Size_in_bytes     Installs  Type Price Content Rating  \\\n",
       "0     159     19922944.0      10,000+  Free     0       Everyone   \n",
       "1     967     14680064.0     500,000+  Free     0       Everyone   \n",
       "2   87510      9122611.2   5,000,000+  Free     0       Everyone   \n",
       "3  215644     26214400.0  50,000,000+  Free     0           Teen   \n",
       "4     967      2936012.8     100,000+  Free     0       Everyone   \n",
       "\n",
       "                      Genres      Last Updated         Current Ver  \\\n",
       "0               Art & Design   January 7, 2018               1.0.0   \n",
       "1  Art & Design;Pretend Play  January 15, 2018               2.0.0   \n",
       "2               Art & Design    August 1, 2018               1.2.4   \n",
       "3               Art & Design      June 8, 2018  Varies with device   \n",
       "4    Art & Design;Creativity     June 20, 2018                 1.1   \n",
       "\n",
       "    Android Ver  Size_in_Mb  Size_in_Kb  \n",
       "0  4.0.3 and up        19.0     19456.0  \n",
       "1  4.0.3 and up        14.0     14336.0  \n",
       "2  4.0.3 and up         8.7      8908.8  \n",
       "3    4.2 and up        25.0     25600.0  \n",
       "4    4.4 and up         2.8      2867.2  "
      ]
     },
     "execution_count": 28,
     "metadata": {},
     "output_type": "execute_result"
    }
   ],
   "source": [
    "df.head()"
   ]
  },
  {
   "cell_type": "code",
   "execution_count": 29,
   "id": "1b68d9d7",
   "metadata": {
    "papermill": {
     "duration": 0.040094,
     "end_time": "2024-07-05T12:35:11.469116",
     "exception": false,
     "start_time": "2024-07-05T12:35:11.429022",
     "status": "completed"
    },
    "tags": []
   },
   "outputs": [
    {
     "data": {
      "text/plain": [
       "array(['10,000+', '500,000+', '5,000,000+', '50,000,000+', '100,000+',\n",
       "       '50,000+', '1,000,000+', '10,000,000+', '5,000+', '100,000,000+',\n",
       "       '1,000,000,000+', '1,000+', '500,000,000+', '50+', '100+', '500+',\n",
       "       '10+', '1+', '5+', '0+', '0', 'Free'], dtype=object)"
      ]
     },
     "execution_count": 29,
     "metadata": {},
     "output_type": "execute_result"
    }
   ],
   "source": [
    "df['Installs'].unique()"
   ]
  },
  {
   "cell_type": "markdown",
   "id": "c6ba04be",
   "metadata": {
    "papermill": {
     "duration": 0.028921,
     "end_time": "2024-07-05T12:35:11.526603",
     "exception": false,
     "start_time": "2024-07-05T12:35:11.497682",
     "status": "completed"
    },
    "tags": []
   },
   "source": [
    "<div class=\"alert alert-block alert-warning\" style=\"background-color: skyblue; color: black;\">\n",
    "  <h3>Installs column</h3>\n",
    "  <p>1. remove '+' sign</p>\n",
    "  <p>2. remove comma(,)</p>\n",
    "  <p>3. convert column to integer</p>\n",
    "</div>\n"
   ]
  },
  {
   "cell_type": "code",
   "execution_count": 30,
   "id": "77cdacd0",
   "metadata": {
    "papermill": {
     "duration": 0.042494,
     "end_time": "2024-07-05T12:35:11.597273",
     "exception": false,
     "start_time": "2024-07-05T12:35:11.554779",
     "status": "completed"
    },
    "tags": []
   },
   "outputs": [
    {
     "data": {
      "text/plain": [
       "0"
      ]
     },
     "execution_count": 30,
     "metadata": {},
     "output_type": "execute_result"
    }
   ],
   "source": [
    "df['Installs'].isnull().sum()"
   ]
  },
  {
   "cell_type": "markdown",
   "id": "5c981e37",
   "metadata": {
    "papermill": {
     "duration": 0.027612,
     "end_time": "2024-07-05T12:35:11.653327",
     "exception": false,
     "start_time": "2024-07-05T12:35:11.625715",
     "status": "completed"
    },
    "tags": []
   },
   "source": [
    "<div style=\"padding:20px; \n",
    "            color:#36FF00;\n",
    "            margin:10px;\n",
    "            font-size:110%;\n",
    "            display:fill;\n",
    "            border-radius:10px;\n",
    "            border-style: solid;\n",
    "            border-color: #36FF00;\n",
    "            background-color:#000000;\n",
    "            overflow:hidden;\n",
    "            font-weight:500\">No missing values !</div>"
   ]
  },
  {
   "cell_type": "code",
   "execution_count": 31,
   "id": "25bd93c6",
   "metadata": {
    "papermill": {
     "duration": 0.051132,
     "end_time": "2024-07-05T12:35:11.736388",
     "exception": false,
     "start_time": "2024-07-05T12:35:11.685256",
     "status": "completed"
    },
    "tags": []
   },
   "outputs": [],
   "source": [
    "# removing '+' sign\n",
    "df['Installs'] = df['Installs'].apply(lambda x : x.replace('+','') if '+' in str(x) else x)"
   ]
  },
  {
   "cell_type": "code",
   "execution_count": 32,
   "id": "34814840",
   "metadata": {
    "papermill": {
     "duration": 0.049891,
     "end_time": "2024-07-05T12:35:11.818880",
     "exception": false,
     "start_time": "2024-07-05T12:35:11.768989",
     "status": "completed"
    },
    "tags": []
   },
   "outputs": [
    {
     "data": {
      "text/plain": [
       "Installs\n",
       "1,000,000        1579\n",
       "10,000,000       1252\n",
       "100,000          1169\n",
       "10,000           1054\n",
       "1,000             907\n",
       "5,000,000         752\n",
       "100               719\n",
       "500,000           539\n",
       "50,000            479\n",
       "5,000             477\n",
       "100,000,000       409\n",
       "10                386\n",
       "500               330\n",
       "50,000,000        289\n",
       "50                205\n",
       "5                  82\n",
       "500,000,000        72\n",
       "1                  67\n",
       "1,000,000,000      58\n",
       "0                  15\n",
       "Free                1\n",
       "Name: count, dtype: int64"
      ]
     },
     "execution_count": 32,
     "metadata": {},
     "output_type": "execute_result"
    }
   ],
   "source": [
    "df['Installs'].value_counts()"
   ]
  },
  {
   "cell_type": "code",
   "execution_count": 33,
   "id": "204d9d3c",
   "metadata": {
    "papermill": {
     "duration": 0.052906,
     "end_time": "2024-07-05T12:35:11.915122",
     "exception": false,
     "start_time": "2024-07-05T12:35:11.862216",
     "status": "completed"
    },
    "tags": []
   },
   "outputs": [],
   "source": [
    "# removing commas \n",
    "df['Installs'] = df['Installs'].apply(lambda x : x.replace(',' , '') if ',' in str(x) else x )"
   ]
  },
  {
   "cell_type": "code",
   "execution_count": 34,
   "id": "4387318d",
   "metadata": {
    "papermill": {
     "duration": 0.056371,
     "end_time": "2024-07-05T12:35:12.015549",
     "exception": false,
     "start_time": "2024-07-05T12:35:11.959178",
     "status": "completed"
    },
    "tags": []
   },
   "outputs": [],
   "source": [
    "df['Installs'] = df['Installs'].replace('Free' , np.nan)"
   ]
  },
  {
   "cell_type": "code",
   "execution_count": 35,
   "id": "c841946c",
   "metadata": {
    "papermill": {
     "duration": 0.053411,
     "end_time": "2024-07-05T12:35:12.102194",
     "exception": false,
     "start_time": "2024-07-05T12:35:12.048783",
     "status": "completed"
    },
    "tags": []
   },
   "outputs": [],
   "source": [
    "# converting into integer\n",
    "df['Installs'] = df['Installs'].apply(lambda x : float(x))"
   ]
  },
  {
   "cell_type": "code",
   "execution_count": 36,
   "id": "85e03f9b",
   "metadata": {
    "papermill": {
     "duration": 0.056355,
     "end_time": "2024-07-05T12:35:12.202017",
     "exception": false,
     "start_time": "2024-07-05T12:35:12.145662",
     "status": "completed"
    },
    "tags": []
   },
   "outputs": [
    {
     "data": {
      "text/plain": [
       "array([1.e+04, 5.e+05, 5.e+06, 5.e+07, 1.e+05, 5.e+04, 1.e+06, 1.e+07,\n",
       "       5.e+03, 1.e+08, 1.e+09, 1.e+03, 5.e+08, 5.e+01, 1.e+02, 5.e+02,\n",
       "       1.e+01, 1.e+00, 5.e+00, 0.e+00,    nan])"
      ]
     },
     "execution_count": 36,
     "metadata": {},
     "output_type": "execute_result"
    }
   ],
   "source": [
    "df['Installs'].unique()"
   ]
  },
  {
   "cell_type": "code",
   "execution_count": 37,
   "id": "91eb1f10",
   "metadata": {
    "papermill": {
     "duration": 0.043738,
     "end_time": "2024-07-05T12:35:12.288847",
     "exception": false,
     "start_time": "2024-07-05T12:35:12.245109",
     "status": "completed"
    },
    "tags": []
   },
   "outputs": [],
   "source": [
    "# imputing nan value with mode installs\n",
    "df['Installs'] = df['Installs'].fillna(df['Installs'].mode()[0])"
   ]
  },
  {
   "cell_type": "code",
   "execution_count": 38,
   "id": "a05d02b1",
   "metadata": {
    "papermill": {
     "duration": 0.054607,
     "end_time": "2024-07-05T12:35:12.373348",
     "exception": false,
     "start_time": "2024-07-05T12:35:12.318741",
     "status": "completed"
    },
    "tags": []
   },
   "outputs": [
    {
     "data": {
      "text/plain": [
       "0"
      ]
     },
     "execution_count": 38,
     "metadata": {},
     "output_type": "execute_result"
    }
   ],
   "source": [
    "# checking if there is any nan value\n",
    "df['Installs'].isna().sum()"
   ]
  },
  {
   "cell_type": "code",
   "execution_count": 39,
   "id": "93e0a9a5",
   "metadata": {
    "papermill": {
     "duration": 0.04548,
     "end_time": "2024-07-05T12:35:12.459638",
     "exception": false,
     "start_time": "2024-07-05T12:35:12.414158",
     "status": "completed"
    },
    "tags": []
   },
   "outputs": [],
   "source": [
    "# making new column called installs_category\n",
    "bins = [-1,10,100,1000,10000,100000,1000000,10000000,100000000]\n",
    "labels = ['No','Very low','Low','Moderate','More than moderate','High','Very high','Top notch']\n",
    "df['Installs_category'] = pd.cut(df['Installs'],bins=bins,labels=labels)"
   ]
  },
  {
   "cell_type": "code",
   "execution_count": 40,
   "id": "af8b39bd",
   "metadata": {
    "papermill": {
     "duration": 0.057274,
     "end_time": "2024-07-05T12:35:12.545943",
     "exception": false,
     "start_time": "2024-07-05T12:35:12.488669",
     "status": "completed"
    },
    "tags": []
   },
   "outputs": [
    {
     "data": {
      "text/html": [
       "<div>\n",
       "<style scoped>\n",
       "    .dataframe tbody tr th:only-of-type {\n",
       "        vertical-align: middle;\n",
       "    }\n",
       "\n",
       "    .dataframe tbody tr th {\n",
       "        vertical-align: top;\n",
       "    }\n",
       "\n",
       "    .dataframe thead th {\n",
       "        text-align: right;\n",
       "    }\n",
       "</style>\n",
       "<table border=\"1\" class=\"dataframe\">\n",
       "  <thead>\n",
       "    <tr style=\"text-align: right;\">\n",
       "      <th></th>\n",
       "      <th>App</th>\n",
       "      <th>Category</th>\n",
       "      <th>Rating</th>\n",
       "      <th>Reviews</th>\n",
       "      <th>Size_in_bytes</th>\n",
       "      <th>Installs</th>\n",
       "      <th>Type</th>\n",
       "      <th>Price</th>\n",
       "      <th>Content Rating</th>\n",
       "      <th>Genres</th>\n",
       "      <th>Last Updated</th>\n",
       "      <th>Current Ver</th>\n",
       "      <th>Android Ver</th>\n",
       "      <th>Size_in_Mb</th>\n",
       "      <th>Size_in_Kb</th>\n",
       "      <th>Installs_category</th>\n",
       "    </tr>\n",
       "  </thead>\n",
       "  <tbody>\n",
       "    <tr>\n",
       "      <th>0</th>\n",
       "      <td>Photo Editor &amp; Candy Camera &amp; Grid &amp; ScrapBook</td>\n",
       "      <td>ART_AND_DESIGN</td>\n",
       "      <td>4.1</td>\n",
       "      <td>159</td>\n",
       "      <td>19922944.0</td>\n",
       "      <td>10000.0</td>\n",
       "      <td>Free</td>\n",
       "      <td>0</td>\n",
       "      <td>Everyone</td>\n",
       "      <td>Art &amp; Design</td>\n",
       "      <td>January 7, 2018</td>\n",
       "      <td>1.0.0</td>\n",
       "      <td>4.0.3 and up</td>\n",
       "      <td>19.0</td>\n",
       "      <td>19456.0</td>\n",
       "      <td>Moderate</td>\n",
       "    </tr>\n",
       "    <tr>\n",
       "      <th>1</th>\n",
       "      <td>Coloring book moana</td>\n",
       "      <td>ART_AND_DESIGN</td>\n",
       "      <td>3.9</td>\n",
       "      <td>967</td>\n",
       "      <td>14680064.0</td>\n",
       "      <td>500000.0</td>\n",
       "      <td>Free</td>\n",
       "      <td>0</td>\n",
       "      <td>Everyone</td>\n",
       "      <td>Art &amp; Design;Pretend Play</td>\n",
       "      <td>January 15, 2018</td>\n",
       "      <td>2.0.0</td>\n",
       "      <td>4.0.3 and up</td>\n",
       "      <td>14.0</td>\n",
       "      <td>14336.0</td>\n",
       "      <td>High</td>\n",
       "    </tr>\n",
       "    <tr>\n",
       "      <th>2</th>\n",
       "      <td>U Launcher Lite – FREE Live Cool Themes, Hide ...</td>\n",
       "      <td>ART_AND_DESIGN</td>\n",
       "      <td>4.7</td>\n",
       "      <td>87510</td>\n",
       "      <td>9122611.2</td>\n",
       "      <td>5000000.0</td>\n",
       "      <td>Free</td>\n",
       "      <td>0</td>\n",
       "      <td>Everyone</td>\n",
       "      <td>Art &amp; Design</td>\n",
       "      <td>August 1, 2018</td>\n",
       "      <td>1.2.4</td>\n",
       "      <td>4.0.3 and up</td>\n",
       "      <td>8.7</td>\n",
       "      <td>8908.8</td>\n",
       "      <td>Very high</td>\n",
       "    </tr>\n",
       "    <tr>\n",
       "      <th>3</th>\n",
       "      <td>Sketch - Draw &amp; Paint</td>\n",
       "      <td>ART_AND_DESIGN</td>\n",
       "      <td>4.5</td>\n",
       "      <td>215644</td>\n",
       "      <td>26214400.0</td>\n",
       "      <td>50000000.0</td>\n",
       "      <td>Free</td>\n",
       "      <td>0</td>\n",
       "      <td>Teen</td>\n",
       "      <td>Art &amp; Design</td>\n",
       "      <td>June 8, 2018</td>\n",
       "      <td>Varies with device</td>\n",
       "      <td>4.2 and up</td>\n",
       "      <td>25.0</td>\n",
       "      <td>25600.0</td>\n",
       "      <td>Top notch</td>\n",
       "    </tr>\n",
       "    <tr>\n",
       "      <th>4</th>\n",
       "      <td>Pixel Draw - Number Art Coloring Book</td>\n",
       "      <td>ART_AND_DESIGN</td>\n",
       "      <td>4.3</td>\n",
       "      <td>967</td>\n",
       "      <td>2936012.8</td>\n",
       "      <td>100000.0</td>\n",
       "      <td>Free</td>\n",
       "      <td>0</td>\n",
       "      <td>Everyone</td>\n",
       "      <td>Art &amp; Design;Creativity</td>\n",
       "      <td>June 20, 2018</td>\n",
       "      <td>1.1</td>\n",
       "      <td>4.4 and up</td>\n",
       "      <td>2.8</td>\n",
       "      <td>2867.2</td>\n",
       "      <td>More than moderate</td>\n",
       "    </tr>\n",
       "  </tbody>\n",
       "</table>\n",
       "</div>"
      ],
      "text/plain": [
       "                                                 App        Category  Rating  \\\n",
       "0     Photo Editor & Candy Camera & Grid & ScrapBook  ART_AND_DESIGN     4.1   \n",
       "1                                Coloring book moana  ART_AND_DESIGN     3.9   \n",
       "2  U Launcher Lite – FREE Live Cool Themes, Hide ...  ART_AND_DESIGN     4.7   \n",
       "3                              Sketch - Draw & Paint  ART_AND_DESIGN     4.5   \n",
       "4              Pixel Draw - Number Art Coloring Book  ART_AND_DESIGN     4.3   \n",
       "\n",
       "  Reviews  Size_in_bytes    Installs  Type Price Content Rating  \\\n",
       "0     159     19922944.0     10000.0  Free     0       Everyone   \n",
       "1     967     14680064.0    500000.0  Free     0       Everyone   \n",
       "2   87510      9122611.2   5000000.0  Free     0       Everyone   \n",
       "3  215644     26214400.0  50000000.0  Free     0           Teen   \n",
       "4     967      2936012.8    100000.0  Free     0       Everyone   \n",
       "\n",
       "                      Genres      Last Updated         Current Ver  \\\n",
       "0               Art & Design   January 7, 2018               1.0.0   \n",
       "1  Art & Design;Pretend Play  January 15, 2018               2.0.0   \n",
       "2               Art & Design    August 1, 2018               1.2.4   \n",
       "3               Art & Design      June 8, 2018  Varies with device   \n",
       "4    Art & Design;Creativity     June 20, 2018                 1.1   \n",
       "\n",
       "    Android Ver  Size_in_Mb  Size_in_Kb   Installs_category  \n",
       "0  4.0.3 and up        19.0     19456.0            Moderate  \n",
       "1  4.0.3 and up        14.0     14336.0                High  \n",
       "2  4.0.3 and up         8.7      8908.8           Very high  \n",
       "3    4.2 and up        25.0     25600.0           Top notch  \n",
       "4    4.4 and up         2.8      2867.2  More than moderate  "
      ]
     },
     "execution_count": 40,
     "metadata": {},
     "output_type": "execute_result"
    }
   ],
   "source": [
    "df.head()"
   ]
  },
  {
   "cell_type": "code",
   "execution_count": 41,
   "id": "06bae9aa",
   "metadata": {
    "papermill": {
     "duration": 0.045815,
     "end_time": "2024-07-05T12:35:12.625413",
     "exception": false,
     "start_time": "2024-07-05T12:35:12.579598",
     "status": "completed"
    },
    "tags": []
   },
   "outputs": [
    {
     "data": {
      "text/plain": [
       "Installs_category\n",
       "High                  2119\n",
       "Very high             2004\n",
       "More than moderate    1648\n",
       "Moderate              1531\n",
       "Low                   1237\n",
       "Very low               924\n",
       "Top notch              698\n",
       "No                     550\n",
       "Name: count, dtype: int64"
      ]
     },
     "execution_count": 41,
     "metadata": {},
     "output_type": "execute_result"
    }
   ],
   "source": [
    "df['Installs_category'].value_counts()"
   ]
  },
  {
   "cell_type": "code",
   "execution_count": 42,
   "id": "102fe97b",
   "metadata": {
    "papermill": {
     "duration": 0.04071,
     "end_time": "2024-07-05T12:35:12.701053",
     "exception": false,
     "start_time": "2024-07-05T12:35:12.660343",
     "status": "completed"
    },
    "tags": []
   },
   "outputs": [
    {
     "data": {
      "text/plain": [
       "0"
      ]
     },
     "execution_count": 42,
     "metadata": {},
     "output_type": "execute_result"
    }
   ],
   "source": [
    "df['Installs'].isna().sum()"
   ]
  },
  {
   "cell_type": "code",
   "execution_count": 43,
   "id": "ad33f164",
   "metadata": {
    "papermill": {
     "duration": 0.063886,
     "end_time": "2024-07-05T12:35:12.793916",
     "exception": false,
     "start_time": "2024-07-05T12:35:12.730030",
     "status": "completed"
    },
    "tags": []
   },
   "outputs": [
    {
     "data": {
      "text/html": [
       "<div>\n",
       "<style scoped>\n",
       "    .dataframe tbody tr th:only-of-type {\n",
       "        vertical-align: middle;\n",
       "    }\n",
       "\n",
       "    .dataframe tbody tr th {\n",
       "        vertical-align: top;\n",
       "    }\n",
       "\n",
       "    .dataframe thead th {\n",
       "        text-align: right;\n",
       "    }\n",
       "</style>\n",
       "<table border=\"1\" class=\"dataframe\">\n",
       "  <thead>\n",
       "    <tr style=\"text-align: right;\">\n",
       "      <th></th>\n",
       "      <th>Rating</th>\n",
       "      <th>Size_in_bytes</th>\n",
       "      <th>Installs</th>\n",
       "      <th>Size_in_Mb</th>\n",
       "      <th>Size_in_Kb</th>\n",
       "    </tr>\n",
       "  </thead>\n",
       "  <tbody>\n",
       "    <tr>\n",
       "      <th>count</th>\n",
       "      <td>9367.000000</td>\n",
       "      <td>9.145000e+03</td>\n",
       "      <td>1.084100e+04</td>\n",
       "      <td>9145.000000</td>\n",
       "      <td>9145.000000</td>\n",
       "    </tr>\n",
       "    <tr>\n",
       "      <th>mean</th>\n",
       "      <td>4.193338</td>\n",
       "      <td>2.256133e+07</td>\n",
       "      <td>1.546300e+07</td>\n",
       "      <td>21.516165</td>\n",
       "      <td>22032.553406</td>\n",
       "    </tr>\n",
       "    <tr>\n",
       "      <th>std</th>\n",
       "      <td>0.537431</td>\n",
       "      <td>2.368637e+07</td>\n",
       "      <td>8.502555e+07</td>\n",
       "      <td>22.589084</td>\n",
       "      <td>23131.222364</td>\n",
       "    </tr>\n",
       "    <tr>\n",
       "      <th>min</th>\n",
       "      <td>1.000000</td>\n",
       "      <td>8.704000e+03</td>\n",
       "      <td>0.000000e+00</td>\n",
       "      <td>0.008301</td>\n",
       "      <td>8.500000</td>\n",
       "    </tr>\n",
       "    <tr>\n",
       "      <th>25%</th>\n",
       "      <td>4.000000</td>\n",
       "      <td>5.138022e+06</td>\n",
       "      <td>1.000000e+03</td>\n",
       "      <td>4.900000</td>\n",
       "      <td>5017.600000</td>\n",
       "    </tr>\n",
       "    <tr>\n",
       "      <th>50%</th>\n",
       "      <td>4.300000</td>\n",
       "      <td>1.363149e+07</td>\n",
       "      <td>1.000000e+05</td>\n",
       "      <td>13.000000</td>\n",
       "      <td>13312.000000</td>\n",
       "    </tr>\n",
       "    <tr>\n",
       "      <th>75%</th>\n",
       "      <td>4.500000</td>\n",
       "      <td>3.145728e+07</td>\n",
       "      <td>5.000000e+06</td>\n",
       "      <td>30.000000</td>\n",
       "      <td>30720.000000</td>\n",
       "    </tr>\n",
       "    <tr>\n",
       "      <th>max</th>\n",
       "      <td>19.000000</td>\n",
       "      <td>1.048576e+08</td>\n",
       "      <td>1.000000e+09</td>\n",
       "      <td>100.000000</td>\n",
       "      <td>102400.000000</td>\n",
       "    </tr>\n",
       "  </tbody>\n",
       "</table>\n",
       "</div>"
      ],
      "text/plain": [
       "            Rating  Size_in_bytes      Installs   Size_in_Mb     Size_in_Kb\n",
       "count  9367.000000   9.145000e+03  1.084100e+04  9145.000000    9145.000000\n",
       "mean      4.193338   2.256133e+07  1.546300e+07    21.516165   22032.553406\n",
       "std       0.537431   2.368637e+07  8.502555e+07    22.589084   23131.222364\n",
       "min       1.000000   8.704000e+03  0.000000e+00     0.008301       8.500000\n",
       "25%       4.000000   5.138022e+06  1.000000e+03     4.900000    5017.600000\n",
       "50%       4.300000   1.363149e+07  1.000000e+05    13.000000   13312.000000\n",
       "75%       4.500000   3.145728e+07  5.000000e+06    30.000000   30720.000000\n",
       "max      19.000000   1.048576e+08  1.000000e+09   100.000000  102400.000000"
      ]
     },
     "execution_count": 43,
     "metadata": {},
     "output_type": "execute_result"
    }
   ],
   "source": [
    "# checking numerical columns\n",
    "df.describe()"
   ]
  },
  {
   "cell_type": "code",
   "execution_count": 44,
   "id": "15392d6f",
   "metadata": {
    "papermill": {
     "duration": 0.04449,
     "end_time": "2024-07-05T12:35:12.871807",
     "exception": false,
     "start_time": "2024-07-05T12:35:12.827317",
     "status": "completed"
    },
    "tags": []
   },
   "outputs": [
    {
     "data": {
      "text/plain": [
       "array(['0', '$4.99', '$3.99', '$6.99', '$1.49', '$2.99', '$7.99', '$5.99',\n",
       "       '$3.49', '$1.99', '$9.99', '$7.49', '$0.99', '$9.00', '$5.49',\n",
       "       '$10.00', '$24.99', '$11.99', '$79.99', '$16.99', '$14.99',\n",
       "       '$1.00', '$29.99', '$12.99', '$2.49', '$10.99', '$1.50', '$19.99',\n",
       "       '$15.99', '$33.99', '$74.99', '$39.99', '$3.95', '$4.49', '$1.70',\n",
       "       '$8.99', '$2.00', '$3.88', '$25.99', '$399.99', '$17.99',\n",
       "       '$400.00', '$3.02', '$1.76', '$4.84', '$4.77', '$1.61', '$2.50',\n",
       "       '$1.59', '$6.49', '$1.29', '$5.00', '$13.99', '$299.99', '$379.99',\n",
       "       '$37.99', '$18.99', '$389.99', '$19.90', '$8.49', '$1.75',\n",
       "       '$14.00', '$4.85', '$46.99', '$109.99', '$154.99', '$3.08',\n",
       "       '$2.59', '$4.80', '$1.96', '$19.40', '$3.90', '$4.59', '$15.46',\n",
       "       '$3.04', '$4.29', '$2.60', '$3.28', '$4.60', '$28.99', '$2.95',\n",
       "       '$2.90', '$1.97', '$200.00', '$89.99', '$2.56', '$30.99', '$3.61',\n",
       "       '$394.99', '$1.26', 'Everyone', '$1.20', '$1.04'], dtype=object)"
      ]
     },
     "execution_count": 44,
     "metadata": {},
     "output_type": "execute_result"
    }
   ],
   "source": [
    "df['Price'].unique()"
   ]
  },
  {
   "cell_type": "markdown",
   "id": "e98afacf",
   "metadata": {
    "papermill": {
     "duration": 0.029371,
     "end_time": "2024-07-05T12:35:12.936203",
     "exception": false,
     "start_time": "2024-07-05T12:35:12.906832",
     "status": "completed"
    },
    "tags": []
   },
   "source": [
    "<div class=\"alert alert-block alert-warning\" style=\"background-color: skyblue; color: black;\">\n",
    "  <h3>Price column</h3>\n",
    "  <p>1. remove '$' sign </p>\n",
    "  <p>2. remove 'Everyone'</p>\n",
    "  <p>3. convert column to integer</p>\n",
    "</div>\n"
   ]
  },
  {
   "cell_type": "code",
   "execution_count": 45,
   "id": "d9fa56db",
   "metadata": {
    "papermill": {
     "duration": 0.048579,
     "end_time": "2024-07-05T12:35:13.014231",
     "exception": false,
     "start_time": "2024-07-05T12:35:12.965652",
     "status": "completed"
    },
    "tags": []
   },
   "outputs": [],
   "source": [
    "# remove $ sign\n",
    "df['Price'] = df['Price'].apply(lambda x : x.replace('$','') if '$' in str(x) else x )"
   ]
  },
  {
   "cell_type": "code",
   "execution_count": 46,
   "id": "c7b5a6ae",
   "metadata": {
    "papermill": {
     "duration": 0.043185,
     "end_time": "2024-07-05T12:35:13.086918",
     "exception": false,
     "start_time": "2024-07-05T12:35:13.043733",
     "status": "completed"
    },
    "tags": []
   },
   "outputs": [],
   "source": [
    "# remove Everyone text\n",
    "df['Price'] = df['Price'].replace('Everyone' , np.NaN)"
   ]
  },
  {
   "cell_type": "code",
   "execution_count": 47,
   "id": "8e3bab1a",
   "metadata": {
    "papermill": {
     "duration": 0.04199,
     "end_time": "2024-07-05T12:35:13.158225",
     "exception": false,
     "start_time": "2024-07-05T12:35:13.116235",
     "status": "completed"
    },
    "tags": []
   },
   "outputs": [],
   "source": [
    "# converting into integer\n",
    "df['Price'] = df['Price'].apply(lambda x : float(x))"
   ]
  },
  {
   "cell_type": "code",
   "execution_count": 48,
   "id": "9317aaac",
   "metadata": {
    "papermill": {
     "duration": 0.039953,
     "end_time": "2024-07-05T12:35:13.227133",
     "exception": false,
     "start_time": "2024-07-05T12:35:13.187180",
     "status": "completed"
    },
    "tags": []
   },
   "outputs": [
    {
     "data": {
      "text/plain": [
       "dtype('float64')"
      ]
     },
     "execution_count": 48,
     "metadata": {},
     "output_type": "execute_result"
    }
   ],
   "source": [
    "df['Price'].dtype"
   ]
  },
  {
   "cell_type": "code",
   "execution_count": 49,
   "id": "664e688a",
   "metadata": {
    "papermill": {
     "duration": 0.041872,
     "end_time": "2024-07-05T12:35:13.298348",
     "exception": false,
     "start_time": "2024-07-05T12:35:13.256476",
     "status": "completed"
    },
    "tags": []
   },
   "outputs": [
    {
     "data": {
      "text/plain": [
       "array([  0.  ,   4.99,   3.99,   6.99,   1.49,   2.99,   7.99,   5.99,\n",
       "         3.49,   1.99,   9.99,   7.49,   0.99,   9.  ,   5.49,  10.  ,\n",
       "        24.99,  11.99,  79.99,  16.99,  14.99,   1.  ,  29.99,  12.99,\n",
       "         2.49,  10.99,   1.5 ,  19.99,  15.99,  33.99,  74.99,  39.99,\n",
       "         3.95,   4.49,   1.7 ,   8.99,   2.  ,   3.88,  25.99, 399.99,\n",
       "        17.99, 400.  ,   3.02,   1.76,   4.84,   4.77,   1.61,   2.5 ,\n",
       "         1.59,   6.49,   1.29,   5.  ,  13.99, 299.99, 379.99,  37.99,\n",
       "        18.99, 389.99,  19.9 ,   8.49,   1.75,  14.  ,   4.85,  46.99,\n",
       "       109.99, 154.99,   3.08,   2.59,   4.8 ,   1.96,  19.4 ,   3.9 ,\n",
       "         4.59,  15.46,   3.04,   4.29,   2.6 ,   3.28,   4.6 ,  28.99,\n",
       "         2.95,   2.9 ,   1.97, 200.  ,  89.99,   2.56,  30.99,   3.61,\n",
       "       394.99,   1.26,    nan,   1.2 ,   1.04])"
      ]
     },
     "execution_count": 49,
     "metadata": {},
     "output_type": "execute_result"
    }
   ],
   "source": [
    "df['Price'].unique()"
   ]
  },
  {
   "cell_type": "markdown",
   "id": "8e378720",
   "metadata": {
    "papermill": {
     "duration": 0.029924,
     "end_time": "2024-07-05T12:35:13.357816",
     "exception": false,
     "start_time": "2024-07-05T12:35:13.327892",
     "status": "completed"
    },
    "tags": []
   },
   "source": [
    "There is a nan value and we gotta impute/fill it"
   ]
  },
  {
   "cell_type": "code",
   "execution_count": 50,
   "id": "73a5b3f4",
   "metadata": {
    "papermill": {
     "duration": 0.041193,
     "end_time": "2024-07-05T12:35:13.428676",
     "exception": false,
     "start_time": "2024-07-05T12:35:13.387483",
     "status": "completed"
    },
    "tags": []
   },
   "outputs": [
    {
     "data": {
      "text/plain": [
       "1"
      ]
     },
     "execution_count": 50,
     "metadata": {},
     "output_type": "execute_result"
    }
   ],
   "source": [
    "# checking How many nan values are there\n",
    "df['Price'].isna().sum()"
   ]
  },
  {
   "cell_type": "code",
   "execution_count": 51,
   "id": "37d961fa",
   "metadata": {
    "papermill": {
     "duration": 0.039702,
     "end_time": "2024-07-05T12:35:13.499194",
     "exception": false,
     "start_time": "2024-07-05T12:35:13.459492",
     "status": "completed"
    },
    "tags": []
   },
   "outputs": [
    {
     "data": {
      "text/plain": [
       "True"
      ]
     },
     "execution_count": 51,
     "metadata": {},
     "output_type": "execute_result"
    }
   ],
   "source": [
    "df['Price'].isna().values.any()"
   ]
  },
  {
   "cell_type": "code",
   "execution_count": 52,
   "id": "30227500",
   "metadata": {
    "papermill": {
     "duration": 0.040034,
     "end_time": "2024-07-05T12:35:13.568777",
     "exception": false,
     "start_time": "2024-07-05T12:35:13.528743",
     "status": "completed"
    },
    "tags": []
   },
   "outputs": [],
   "source": [
    "# imputing nan value with mode price\n",
    "df['Price'] = df['Price'].fillna(df['Price'].mode()[0])"
   ]
  },
  {
   "cell_type": "code",
   "execution_count": 53,
   "id": "537ad9c2",
   "metadata": {
    "papermill": {
     "duration": 0.040164,
     "end_time": "2024-07-05T12:35:13.639347",
     "exception": false,
     "start_time": "2024-07-05T12:35:13.599183",
     "status": "completed"
    },
    "tags": []
   },
   "outputs": [
    {
     "data": {
      "text/plain": [
       "0"
      ]
     },
     "execution_count": 53,
     "metadata": {},
     "output_type": "execute_result"
    }
   ],
   "source": [
    "df['Price'].isna().sum()"
   ]
  },
  {
   "cell_type": "code",
   "execution_count": 54,
   "id": "7ff02768",
   "metadata": {
    "papermill": {
     "duration": 0.042108,
     "end_time": "2024-07-05T12:35:13.711705",
     "exception": false,
     "start_time": "2024-07-05T12:35:13.669597",
     "status": "completed"
    },
    "tags": []
   },
   "outputs": [
    {
     "data": {
      "text/plain": [
       "array([  0.  ,   4.99,   3.99,   6.99,   1.49,   2.99,   7.99,   5.99,\n",
       "         3.49,   1.99,   9.99,   7.49,   0.99,   9.  ,   5.49,  10.  ,\n",
       "        24.99,  11.99,  79.99,  16.99,  14.99,   1.  ,  29.99,  12.99,\n",
       "         2.49,  10.99,   1.5 ,  19.99,  15.99,  33.99,  74.99,  39.99,\n",
       "         3.95,   4.49,   1.7 ,   8.99,   2.  ,   3.88,  25.99, 399.99,\n",
       "        17.99, 400.  ,   3.02,   1.76,   4.84,   4.77,   1.61,   2.5 ,\n",
       "         1.59,   6.49,   1.29,   5.  ,  13.99, 299.99, 379.99,  37.99,\n",
       "        18.99, 389.99,  19.9 ,   8.49,   1.75,  14.  ,   4.85,  46.99,\n",
       "       109.99, 154.99,   3.08,   2.59,   4.8 ,   1.96,  19.4 ,   3.9 ,\n",
       "         4.59,  15.46,   3.04,   4.29,   2.6 ,   3.28,   4.6 ,  28.99,\n",
       "         2.95,   2.9 ,   1.97, 200.  ,  89.99,   2.56,  30.99,   3.61,\n",
       "       394.99,   1.26,   1.2 ,   1.04])"
      ]
     },
     "execution_count": 54,
     "metadata": {},
     "output_type": "execute_result"
    }
   ],
   "source": [
    "df['Price'].unique()"
   ]
  },
  {
   "cell_type": "markdown",
   "id": "231ee513",
   "metadata": {
    "papermill": {
     "duration": 0.029637,
     "end_time": "2024-07-05T12:35:13.771302",
     "exception": false,
     "start_time": "2024-07-05T12:35:13.741665",
     "status": "completed"
    },
    "tags": []
   },
   "source": [
    "### Now, nan value got removed"
   ]
  },
  {
   "cell_type": "code",
   "execution_count": 55,
   "id": "141b270e",
   "metadata": {
    "papermill": {
     "duration": 0.056768,
     "end_time": "2024-07-05T12:35:13.858495",
     "exception": false,
     "start_time": "2024-07-05T12:35:13.801727",
     "status": "completed"
    },
    "tags": []
   },
   "outputs": [
    {
     "data": {
      "text/html": [
       "<div>\n",
       "<style scoped>\n",
       "    .dataframe tbody tr th:only-of-type {\n",
       "        vertical-align: middle;\n",
       "    }\n",
       "\n",
       "    .dataframe tbody tr th {\n",
       "        vertical-align: top;\n",
       "    }\n",
       "\n",
       "    .dataframe thead th {\n",
       "        text-align: right;\n",
       "    }\n",
       "</style>\n",
       "<table border=\"1\" class=\"dataframe\">\n",
       "  <thead>\n",
       "    <tr style=\"text-align: right;\">\n",
       "      <th></th>\n",
       "      <th>App</th>\n",
       "      <th>Category</th>\n",
       "      <th>Rating</th>\n",
       "      <th>Reviews</th>\n",
       "      <th>Size_in_bytes</th>\n",
       "      <th>Installs</th>\n",
       "      <th>Type</th>\n",
       "      <th>Price</th>\n",
       "      <th>Content Rating</th>\n",
       "      <th>Genres</th>\n",
       "      <th>Last Updated</th>\n",
       "      <th>Current Ver</th>\n",
       "      <th>Android Ver</th>\n",
       "      <th>Size_in_Mb</th>\n",
       "      <th>Size_in_Kb</th>\n",
       "      <th>Installs_category</th>\n",
       "    </tr>\n",
       "  </thead>\n",
       "  <tbody>\n",
       "    <tr>\n",
       "      <th>10836</th>\n",
       "      <td>Sya9a Maroc - FR</td>\n",
       "      <td>FAMILY</td>\n",
       "      <td>4.5</td>\n",
       "      <td>38</td>\n",
       "      <td>55574528.0</td>\n",
       "      <td>5000.0</td>\n",
       "      <td>Free</td>\n",
       "      <td>0.0</td>\n",
       "      <td>Everyone</td>\n",
       "      <td>Education</td>\n",
       "      <td>July 25, 2017</td>\n",
       "      <td>1.48</td>\n",
       "      <td>4.1 and up</td>\n",
       "      <td>53.0</td>\n",
       "      <td>54272.0</td>\n",
       "      <td>Moderate</td>\n",
       "    </tr>\n",
       "    <tr>\n",
       "      <th>10837</th>\n",
       "      <td>Fr. Mike Schmitz Audio Teachings</td>\n",
       "      <td>FAMILY</td>\n",
       "      <td>5.0</td>\n",
       "      <td>4</td>\n",
       "      <td>3774873.6</td>\n",
       "      <td>100.0</td>\n",
       "      <td>Free</td>\n",
       "      <td>0.0</td>\n",
       "      <td>Everyone</td>\n",
       "      <td>Education</td>\n",
       "      <td>July 6, 2018</td>\n",
       "      <td>1.0</td>\n",
       "      <td>4.1 and up</td>\n",
       "      <td>3.6</td>\n",
       "      <td>3686.4</td>\n",
       "      <td>Very low</td>\n",
       "    </tr>\n",
       "    <tr>\n",
       "      <th>10838</th>\n",
       "      <td>Parkinson Exercices FR</td>\n",
       "      <td>MEDICAL</td>\n",
       "      <td>NaN</td>\n",
       "      <td>3</td>\n",
       "      <td>9961472.0</td>\n",
       "      <td>1000.0</td>\n",
       "      <td>Free</td>\n",
       "      <td>0.0</td>\n",
       "      <td>Everyone</td>\n",
       "      <td>Medical</td>\n",
       "      <td>January 20, 2017</td>\n",
       "      <td>1.0</td>\n",
       "      <td>2.2 and up</td>\n",
       "      <td>9.5</td>\n",
       "      <td>9728.0</td>\n",
       "      <td>Low</td>\n",
       "    </tr>\n",
       "    <tr>\n",
       "      <th>10839</th>\n",
       "      <td>The SCP Foundation DB fr nn5n</td>\n",
       "      <td>BOOKS_AND_REFERENCE</td>\n",
       "      <td>4.5</td>\n",
       "      <td>114</td>\n",
       "      <td>NaN</td>\n",
       "      <td>1000.0</td>\n",
       "      <td>Free</td>\n",
       "      <td>0.0</td>\n",
       "      <td>Mature 17+</td>\n",
       "      <td>Books &amp; Reference</td>\n",
       "      <td>January 19, 2015</td>\n",
       "      <td>Varies with device</td>\n",
       "      <td>Varies with device</td>\n",
       "      <td>NaN</td>\n",
       "      <td>NaN</td>\n",
       "      <td>Low</td>\n",
       "    </tr>\n",
       "    <tr>\n",
       "      <th>10840</th>\n",
       "      <td>iHoroscope - 2018 Daily Horoscope &amp; Astrology</td>\n",
       "      <td>LIFESTYLE</td>\n",
       "      <td>4.5</td>\n",
       "      <td>398307</td>\n",
       "      <td>19922944.0</td>\n",
       "      <td>10000000.0</td>\n",
       "      <td>Free</td>\n",
       "      <td>0.0</td>\n",
       "      <td>Everyone</td>\n",
       "      <td>Lifestyle</td>\n",
       "      <td>July 25, 2018</td>\n",
       "      <td>Varies with device</td>\n",
       "      <td>Varies with device</td>\n",
       "      <td>19.0</td>\n",
       "      <td>19456.0</td>\n",
       "      <td>Very high</td>\n",
       "    </tr>\n",
       "  </tbody>\n",
       "</table>\n",
       "</div>"
      ],
      "text/plain": [
       "                                                 App             Category  \\\n",
       "10836                               Sya9a Maroc - FR               FAMILY   \n",
       "10837               Fr. Mike Schmitz Audio Teachings               FAMILY   \n",
       "10838                         Parkinson Exercices FR              MEDICAL   \n",
       "10839                  The SCP Foundation DB fr nn5n  BOOKS_AND_REFERENCE   \n",
       "10840  iHoroscope - 2018 Daily Horoscope & Astrology            LIFESTYLE   \n",
       "\n",
       "       Rating Reviews  Size_in_bytes    Installs  Type  Price Content Rating  \\\n",
       "10836     4.5      38     55574528.0      5000.0  Free    0.0       Everyone   \n",
       "10837     5.0       4      3774873.6       100.0  Free    0.0       Everyone   \n",
       "10838     NaN       3      9961472.0      1000.0  Free    0.0       Everyone   \n",
       "10839     4.5     114            NaN      1000.0  Free    0.0     Mature 17+   \n",
       "10840     4.5  398307     19922944.0  10000000.0  Free    0.0       Everyone   \n",
       "\n",
       "                  Genres      Last Updated         Current Ver  \\\n",
       "10836          Education     July 25, 2017                1.48   \n",
       "10837          Education      July 6, 2018                 1.0   \n",
       "10838            Medical  January 20, 2017                 1.0   \n",
       "10839  Books & Reference  January 19, 2015  Varies with device   \n",
       "10840          Lifestyle     July 25, 2018  Varies with device   \n",
       "\n",
       "              Android Ver  Size_in_Mb  Size_in_Kb Installs_category  \n",
       "10836          4.1 and up        53.0     54272.0          Moderate  \n",
       "10837          4.1 and up         3.6      3686.4          Very low  \n",
       "10838          2.2 and up         9.5      9728.0               Low  \n",
       "10839  Varies with device         NaN         NaN               Low  \n",
       "10840  Varies with device        19.0     19456.0         Very high  "
      ]
     },
     "execution_count": 55,
     "metadata": {},
     "output_type": "execute_result"
    }
   ],
   "source": [
    "df.tail()"
   ]
  },
  {
   "cell_type": "code",
   "execution_count": 56,
   "id": "3f32db17",
   "metadata": {
    "papermill": {
     "duration": 0.041264,
     "end_time": "2024-07-05T12:35:13.931297",
     "exception": false,
     "start_time": "2024-07-05T12:35:13.890033",
     "status": "completed"
    },
    "tags": []
   },
   "outputs": [
    {
     "name": "stdout",
     "output_type": "stream",
     "text": [
      "Minimun Price is 0.0\n",
      "Maximun Price is 400.0\n",
      "Average Price is 1.0272733142699015\n"
     ]
    }
   ],
   "source": [
    "print(f\"Minimun Price is {df['Price'].min()}\")\n",
    "print(f\"Maximun Price is {df['Price'].max()}\")\n",
    "print(f\"Average Price is {df['Price'].mean()}\")"
   ]
  },
  {
   "cell_type": "markdown",
   "id": "43d88733",
   "metadata": {
    "papermill": {
     "duration": 0.031292,
     "end_time": "2024-07-05T12:35:13.993041",
     "exception": false,
     "start_time": "2024-07-05T12:35:13.961749",
     "status": "completed"
    },
    "tags": []
   },
   "source": [
    "# missing values"
   ]
  },
  {
   "cell_type": "code",
   "execution_count": 57,
   "id": "1de9b72a",
   "metadata": {
    "papermill": {
     "duration": 0.050704,
     "end_time": "2024-07-05T12:35:14.073877",
     "exception": false,
     "start_time": "2024-07-05T12:35:14.023173",
     "status": "completed"
    },
    "tags": []
   },
   "outputs": [
    {
     "data": {
      "text/plain": [
       "Size_in_bytes        1696\n",
       "Size_in_Mb           1696\n",
       "Size_in_Kb           1696\n",
       "Rating               1474\n",
       "Installs_category     130\n",
       "Current Ver             8\n",
       "Android Ver             3\n",
       "Type                    1\n",
       "Content Rating          1\n",
       "App                     0\n",
       "Category                0\n",
       "Reviews                 0\n",
       "Installs                0\n",
       "Price                   0\n",
       "Genres                  0\n",
       "Last Updated            0\n",
       "dtype: int64"
      ]
     },
     "execution_count": 57,
     "metadata": {},
     "output_type": "execute_result"
    }
   ],
   "source": [
    "df.isnull().sum().sort_values(ascending=False)"
   ]
  },
  {
   "cell_type": "markdown",
   "id": "df6812d5",
   "metadata": {
    "papermill": {
     "duration": 0.030121,
     "end_time": "2024-07-05T12:35:14.134756",
     "exception": false,
     "start_time": "2024-07-05T12:35:14.104635",
     "status": "completed"
    },
    "tags": []
   },
   "source": [
    "<div class=\"alert alert-block alert-danger\" style=\"color:red;\">\n",
    "    <b>Missing Values Report:</b>\n",
    "    <br>1. We have 1696 missing values in size_in_bytes, size_in_Mb, size_in_kb\n",
    "    <br>2. We have 1474 missing values in ratings\n",
    "    <br>3. We have 8 missing values in current_ver\n",
    "    <br>4. We have 3 missing values in android_ver\n",
    "    <br>5. We have 1 missing value in type and content rating\n",
    "</div>\n"
   ]
  },
  {
   "cell_type": "code",
   "execution_count": 58,
   "id": "4d8fb443",
   "metadata": {
    "papermill": {
     "duration": 0.051269,
     "end_time": "2024-07-05T12:35:14.216351",
     "exception": false,
     "start_time": "2024-07-05T12:35:14.165082",
     "status": "completed"
    },
    "tags": []
   },
   "outputs": [
    {
     "data": {
      "text/plain": [
       "Size_in_bytes        15.64\n",
       "Size_in_Mb           15.64\n",
       "Size_in_Kb           15.64\n",
       "Rating               13.60\n",
       "Installs_category     1.20\n",
       "Current Ver           0.07\n",
       "Android Ver           0.03\n",
       "Type                  0.01\n",
       "Content Rating        0.01\n",
       "App                   0.00\n",
       "Category              0.00\n",
       "Reviews               0.00\n",
       "Installs              0.00\n",
       "Price                 0.00\n",
       "Genres                0.00\n",
       "Last Updated          0.00\n",
       "dtype: float64"
      ]
     },
     "execution_count": 58,
     "metadata": {},
     "output_type": "execute_result"
    }
   ],
   "source": [
    "# percentage of missing values\n",
    "round(df.isnull().sum()/len(df)*100 ,2).sort_values(ascending=False)"
   ]
  },
  {
   "cell_type": "code",
   "execution_count": 59,
   "id": "f30aadff",
   "metadata": {
    "papermill": {
     "duration": 0.987292,
     "end_time": "2024-07-05T12:35:15.234717",
     "exception": false,
     "start_time": "2024-07-05T12:35:14.247425",
     "status": "completed"
    },
    "tags": []
   },
   "outputs": [
    {
     "data": {
      "text/plain": [
       "<Axes: >"
      ]
     },
     "execution_count": 59,
     "metadata": {},
     "output_type": "execute_result"
    },
    {
     "data": {
      "image/png": "[encoded data removed]",
      "text/plain": [
       "<Figure size 1000x500 with 2 Axes>"
      ]
     },
     "metadata": {},
     "output_type": "display_data"
    }
   ],
   "source": [
    "# Plot missing values\n",
    "plt.figure(figsize=(10,5))\n",
    "sns.heatmap(df.isnull())"
   ]
  },
  {
   "cell_type": "code",
   "execution_count": 60,
   "id": "bb1c834a",
   "metadata": {
    "papermill": {
     "duration": 0.457942,
     "end_time": "2024-07-05T12:35:15.724953",
     "exception": false,
     "start_time": "2024-07-05T12:35:15.267011",
     "status": "completed"
    },
    "tags": []
   },
   "outputs": [
    {
     "data": {
      "text/plain": [
       "Text(0.5, 1.0, 'Percentage of missing values in each column')"
      ]
     },
     "execution_count": 60,
     "metadata": {},
     "output_type": "execute_result"
    },
    {
     "data": {
      "image/png": "[encoded data removed]",
      "text/plain": [
       "<Figure size 1000x500 with 1 Axes>"
      ]
     },
     "metadata": {},
     "output_type": "display_data"
    }
   ],
   "source": [
    "plt.figure(figsize=(10,5))\n",
    "# plot the null values by percentage \n",
    "missing_percentage = df.isnull().sum()/len(df)*100\n",
    "missing_percentage.plot(kind='bar')\n",
    "plt.xlabel('columns')\n",
    "plt.ylabel('Percentage')\n",
    "plt.title('Percentage of missing values in each column')\n"
   ]
  },
  {
   "cell_type": "code",
   "execution_count": 61,
   "id": "f2cfa6f2",
   "metadata": {
    "papermill": {
     "duration": 0.056659,
     "end_time": "2024-07-05T12:35:15.814282",
     "exception": false,
     "start_time": "2024-07-05T12:35:15.757623",
     "status": "completed"
    },
    "tags": []
   },
   "outputs": [
    {
     "name": "stdout",
     "output_type": "stream",
     "text": [
      "<class 'pandas.core.frame.DataFrame'>\n",
      "RangeIndex: 10841 entries, 0 to 10840\n",
      "Data columns (total 16 columns):\n",
      " #   Column             Non-Null Count  Dtype   \n",
      "---  ------             --------------  -----   \n",
      " 0   App                10841 non-null  object  \n",
      " 1   Category           10841 non-null  object  \n",
      " 2   Rating             9367 non-null   float64 \n",
      " 3   Reviews            10841 non-null  object  \n",
      " 4   Size_in_bytes      9145 non-null   float64 \n",
      " 5   Installs           10841 non-null  float64 \n",
      " 6   Type               10840 non-null  object  \n",
      " 7   Price              10841 non-null  float64 \n",
      " 8   Content Rating     10840 non-null  object  \n",
      " 9   Genres             10841 non-null  object  \n",
      " 10  Last Updated       10841 non-null  object  \n",
      " 11  Current Ver        10833 non-null  object  \n",
      " 12  Android Ver        10838 non-null  object  \n",
      " 13  Size_in_Mb         9145 non-null   float64 \n",
      " 14  Size_in_Kb         9145 non-null   float64 \n",
      " 15  Installs_category  10711 non-null  category\n",
      "dtypes: category(1), float64(6), object(9)\n",
      "memory usage: 1.3+ MB\n"
     ]
    }
   ],
   "source": [
    "df.info()"
   ]
  },
  {
   "cell_type": "code",
   "execution_count": 62,
   "id": "06a63ab4",
   "metadata": {
    "papermill": {
     "duration": 0.058036,
     "end_time": "2024-07-05T12:35:15.905435",
     "exception": false,
     "start_time": "2024-07-05T12:35:15.847399",
     "status": "completed"
    },
    "tags": []
   },
   "outputs": [
    {
     "data": {
      "text/html": [
       "<div>\n",
       "<style scoped>\n",
       "    .dataframe tbody tr th:only-of-type {\n",
       "        vertical-align: middle;\n",
       "    }\n",
       "\n",
       "    .dataframe tbody tr th {\n",
       "        vertical-align: top;\n",
       "    }\n",
       "\n",
       "    .dataframe thead th {\n",
       "        text-align: right;\n",
       "    }\n",
       "</style>\n",
       "<table border=\"1\" class=\"dataframe\">\n",
       "  <thead>\n",
       "    <tr style=\"text-align: right;\">\n",
       "      <th></th>\n",
       "      <th>App</th>\n",
       "      <th>Category</th>\n",
       "      <th>Rating</th>\n",
       "      <th>Reviews</th>\n",
       "      <th>Size_in_bytes</th>\n",
       "      <th>Installs</th>\n",
       "      <th>Type</th>\n",
       "      <th>Price</th>\n",
       "      <th>Content Rating</th>\n",
       "      <th>Genres</th>\n",
       "      <th>Last Updated</th>\n",
       "      <th>Current Ver</th>\n",
       "      <th>Android Ver</th>\n",
       "      <th>Size_in_Mb</th>\n",
       "      <th>Size_in_Kb</th>\n",
       "      <th>Installs_category</th>\n",
       "    </tr>\n",
       "  </thead>\n",
       "  <tbody>\n",
       "    <tr>\n",
       "      <th>0</th>\n",
       "      <td>Photo Editor &amp; Candy Camera &amp; Grid &amp; ScrapBook</td>\n",
       "      <td>ART_AND_DESIGN</td>\n",
       "      <td>4.1</td>\n",
       "      <td>159</td>\n",
       "      <td>19922944.0</td>\n",
       "      <td>10000.0</td>\n",
       "      <td>Free</td>\n",
       "      <td>0.0</td>\n",
       "      <td>Everyone</td>\n",
       "      <td>Art &amp; Design</td>\n",
       "      <td>January 7, 2018</td>\n",
       "      <td>1.0.0</td>\n",
       "      <td>4.0.3 and up</td>\n",
       "      <td>19.0</td>\n",
       "      <td>19456.0</td>\n",
       "      <td>Moderate</td>\n",
       "    </tr>\n",
       "    <tr>\n",
       "      <th>1</th>\n",
       "      <td>Coloring book moana</td>\n",
       "      <td>ART_AND_DESIGN</td>\n",
       "      <td>3.9</td>\n",
       "      <td>967</td>\n",
       "      <td>14680064.0</td>\n",
       "      <td>500000.0</td>\n",
       "      <td>Free</td>\n",
       "      <td>0.0</td>\n",
       "      <td>Everyone</td>\n",
       "      <td>Art &amp; Design;Pretend Play</td>\n",
       "      <td>January 15, 2018</td>\n",
       "      <td>2.0.0</td>\n",
       "      <td>4.0.3 and up</td>\n",
       "      <td>14.0</td>\n",
       "      <td>14336.0</td>\n",
       "      <td>High</td>\n",
       "    </tr>\n",
       "    <tr>\n",
       "      <th>2</th>\n",
       "      <td>U Launcher Lite – FREE Live Cool Themes, Hide ...</td>\n",
       "      <td>ART_AND_DESIGN</td>\n",
       "      <td>4.7</td>\n",
       "      <td>87510</td>\n",
       "      <td>9122611.2</td>\n",
       "      <td>5000000.0</td>\n",
       "      <td>Free</td>\n",
       "      <td>0.0</td>\n",
       "      <td>Everyone</td>\n",
       "      <td>Art &amp; Design</td>\n",
       "      <td>August 1, 2018</td>\n",
       "      <td>1.2.4</td>\n",
       "      <td>4.0.3 and up</td>\n",
       "      <td>8.7</td>\n",
       "      <td>8908.8</td>\n",
       "      <td>Very high</td>\n",
       "    </tr>\n",
       "    <tr>\n",
       "      <th>3</th>\n",
       "      <td>Sketch - Draw &amp; Paint</td>\n",
       "      <td>ART_AND_DESIGN</td>\n",
       "      <td>4.5</td>\n",
       "      <td>215644</td>\n",
       "      <td>26214400.0</td>\n",
       "      <td>50000000.0</td>\n",
       "      <td>Free</td>\n",
       "      <td>0.0</td>\n",
       "      <td>Teen</td>\n",
       "      <td>Art &amp; Design</td>\n",
       "      <td>June 8, 2018</td>\n",
       "      <td>Varies with device</td>\n",
       "      <td>4.2 and up</td>\n",
       "      <td>25.0</td>\n",
       "      <td>25600.0</td>\n",
       "      <td>Top notch</td>\n",
       "    </tr>\n",
       "    <tr>\n",
       "      <th>4</th>\n",
       "      <td>Pixel Draw - Number Art Coloring Book</td>\n",
       "      <td>ART_AND_DESIGN</td>\n",
       "      <td>4.3</td>\n",
       "      <td>967</td>\n",
       "      <td>2936012.8</td>\n",
       "      <td>100000.0</td>\n",
       "      <td>Free</td>\n",
       "      <td>0.0</td>\n",
       "      <td>Everyone</td>\n",
       "      <td>Art &amp; Design;Creativity</td>\n",
       "      <td>June 20, 2018</td>\n",
       "      <td>1.1</td>\n",
       "      <td>4.4 and up</td>\n",
       "      <td>2.8</td>\n",
       "      <td>2867.2</td>\n",
       "      <td>More than moderate</td>\n",
       "    </tr>\n",
       "  </tbody>\n",
       "</table>\n",
       "</div>"
      ],
      "text/plain": [
       "                                                 App        Category  Rating  \\\n",
       "0     Photo Editor & Candy Camera & Grid & ScrapBook  ART_AND_DESIGN     4.1   \n",
       "1                                Coloring book moana  ART_AND_DESIGN     3.9   \n",
       "2  U Launcher Lite – FREE Live Cool Themes, Hide ...  ART_AND_DESIGN     4.7   \n",
       "3                              Sketch - Draw & Paint  ART_AND_DESIGN     4.5   \n",
       "4              Pixel Draw - Number Art Coloring Book  ART_AND_DESIGN     4.3   \n",
       "\n",
       "  Reviews  Size_in_bytes    Installs  Type  Price Content Rating  \\\n",
       "0     159     19922944.0     10000.0  Free    0.0       Everyone   \n",
       "1     967     14680064.0    500000.0  Free    0.0       Everyone   \n",
       "2   87510      9122611.2   5000000.0  Free    0.0       Everyone   \n",
       "3  215644     26214400.0  50000000.0  Free    0.0           Teen   \n",
       "4     967      2936012.8    100000.0  Free    0.0       Everyone   \n",
       "\n",
       "                      Genres      Last Updated         Current Ver  \\\n",
       "0               Art & Design   January 7, 2018               1.0.0   \n",
       "1  Art & Design;Pretend Play  January 15, 2018               2.0.0   \n",
       "2               Art & Design    August 1, 2018               1.2.4   \n",
       "3               Art & Design      June 8, 2018  Varies with device   \n",
       "4    Art & Design;Creativity     June 20, 2018                 1.1   \n",
       "\n",
       "    Android Ver  Size_in_Mb  Size_in_Kb   Installs_category  \n",
       "0  4.0.3 and up        19.0     19456.0            Moderate  \n",
       "1  4.0.3 and up        14.0     14336.0                High  \n",
       "2  4.0.3 and up         8.7      8908.8           Very high  \n",
       "3    4.2 and up        25.0     25600.0           Top notch  \n",
       "4    4.4 and up         2.8      2867.2  More than moderate  "
      ]
     },
     "execution_count": 62,
     "metadata": {},
     "output_type": "execute_result"
    }
   ],
   "source": [
    "df.head()"
   ]
  },
  {
   "cell_type": "code",
   "execution_count": 63,
   "id": "573fc818",
   "metadata": {
    "papermill": {
     "duration": 0.051016,
     "end_time": "2024-07-05T12:35:15.989345",
     "exception": false,
     "start_time": "2024-07-05T12:35:15.938329",
     "status": "completed"
    },
    "tags": []
   },
   "outputs": [],
   "source": [
    "# convert reviews into integer\n",
    "df['Reviews'] = pd.to_numeric(df['Reviews'],errors='coerce')"
   ]
  },
  {
   "cell_type": "code",
   "execution_count": 64,
   "id": "b8ecbb80",
   "metadata": {
    "papermill": {
     "duration": 0.071625,
     "end_time": "2024-07-05T12:35:16.094239",
     "exception": false,
     "start_time": "2024-07-05T12:35:16.022614",
     "status": "completed"
    },
    "tags": []
   },
   "outputs": [
    {
     "data": {
      "text/html": [
       "<div>\n",
       "<style scoped>\n",
       "    .dataframe tbody tr th:only-of-type {\n",
       "        vertical-align: middle;\n",
       "    }\n",
       "\n",
       "    .dataframe tbody tr th {\n",
       "        vertical-align: top;\n",
       "    }\n",
       "\n",
       "    .dataframe thead th {\n",
       "        text-align: right;\n",
       "    }\n",
       "</style>\n",
       "<table border=\"1\" class=\"dataframe\">\n",
       "  <thead>\n",
       "    <tr style=\"text-align: right;\">\n",
       "      <th></th>\n",
       "      <th>Rating</th>\n",
       "      <th>Reviews</th>\n",
       "      <th>Size_in_bytes</th>\n",
       "      <th>Installs</th>\n",
       "      <th>Price</th>\n",
       "      <th>Size_in_Mb</th>\n",
       "      <th>Size_in_Kb</th>\n",
       "    </tr>\n",
       "  </thead>\n",
       "  <tbody>\n",
       "    <tr>\n",
       "      <th>count</th>\n",
       "      <td>9367.000000</td>\n",
       "      <td>1.084000e+04</td>\n",
       "      <td>9.145000e+03</td>\n",
       "      <td>1.084100e+04</td>\n",
       "      <td>10841.000000</td>\n",
       "      <td>9145.000000</td>\n",
       "      <td>9145.000000</td>\n",
       "    </tr>\n",
       "    <tr>\n",
       "      <th>mean</th>\n",
       "      <td>4.193338</td>\n",
       "      <td>4.441529e+05</td>\n",
       "      <td>2.256133e+07</td>\n",
       "      <td>1.546300e+07</td>\n",
       "      <td>1.027273</td>\n",
       "      <td>21.516165</td>\n",
       "      <td>22032.553406</td>\n",
       "    </tr>\n",
       "    <tr>\n",
       "      <th>std</th>\n",
       "      <td>0.537431</td>\n",
       "      <td>2.927761e+06</td>\n",
       "      <td>2.368637e+07</td>\n",
       "      <td>8.502555e+07</td>\n",
       "      <td>15.948971</td>\n",
       "      <td>22.589084</td>\n",
       "      <td>23131.222364</td>\n",
       "    </tr>\n",
       "    <tr>\n",
       "      <th>min</th>\n",
       "      <td>1.000000</td>\n",
       "      <td>0.000000e+00</td>\n",
       "      <td>8.704000e+03</td>\n",
       "      <td>0.000000e+00</td>\n",
       "      <td>0.000000</td>\n",
       "      <td>0.008301</td>\n",
       "      <td>8.500000</td>\n",
       "    </tr>\n",
       "    <tr>\n",
       "      <th>25%</th>\n",
       "      <td>4.000000</td>\n",
       "      <td>3.800000e+01</td>\n",
       "      <td>5.138022e+06</td>\n",
       "      <td>1.000000e+03</td>\n",
       "      <td>0.000000</td>\n",
       "      <td>4.900000</td>\n",
       "      <td>5017.600000</td>\n",
       "    </tr>\n",
       "    <tr>\n",
       "      <th>50%</th>\n",
       "      <td>4.300000</td>\n",
       "      <td>2.094000e+03</td>\n",
       "      <td>1.363149e+07</td>\n",
       "      <td>1.000000e+05</td>\n",
       "      <td>0.000000</td>\n",
       "      <td>13.000000</td>\n",
       "      <td>13312.000000</td>\n",
       "    </tr>\n",
       "    <tr>\n",
       "      <th>75%</th>\n",
       "      <td>4.500000</td>\n",
       "      <td>5.477550e+04</td>\n",
       "      <td>3.145728e+07</td>\n",
       "      <td>5.000000e+06</td>\n",
       "      <td>0.000000</td>\n",
       "      <td>30.000000</td>\n",
       "      <td>30720.000000</td>\n",
       "    </tr>\n",
       "    <tr>\n",
       "      <th>max</th>\n",
       "      <td>19.000000</td>\n",
       "      <td>7.815831e+07</td>\n",
       "      <td>1.048576e+08</td>\n",
       "      <td>1.000000e+09</td>\n",
       "      <td>400.000000</td>\n",
       "      <td>100.000000</td>\n",
       "      <td>102400.000000</td>\n",
       "    </tr>\n",
       "  </tbody>\n",
       "</table>\n",
       "</div>"
      ],
      "text/plain": [
       "            Rating       Reviews  Size_in_bytes      Installs         Price  \\\n",
       "count  9367.000000  1.084000e+04   9.145000e+03  1.084100e+04  10841.000000   \n",
       "mean      4.193338  4.441529e+05   2.256133e+07  1.546300e+07      1.027273   \n",
       "std       0.537431  2.927761e+06   2.368637e+07  8.502555e+07     15.948971   \n",
       "min       1.000000  0.000000e+00   8.704000e+03  0.000000e+00      0.000000   \n",
       "25%       4.000000  3.800000e+01   5.138022e+06  1.000000e+03      0.000000   \n",
       "50%       4.300000  2.094000e+03   1.363149e+07  1.000000e+05      0.000000   \n",
       "75%       4.500000  5.477550e+04   3.145728e+07  5.000000e+06      0.000000   \n",
       "max      19.000000  7.815831e+07   1.048576e+08  1.000000e+09    400.000000   \n",
       "\n",
       "        Size_in_Mb     Size_in_Kb  \n",
       "count  9145.000000    9145.000000  \n",
       "mean     21.516165   22032.553406  \n",
       "std      22.589084   23131.222364  \n",
       "min       0.008301       8.500000  \n",
       "25%       4.900000    5017.600000  \n",
       "50%      13.000000   13312.000000  \n",
       "75%      30.000000   30720.000000  \n",
       "max     100.000000  102400.000000  "
      ]
     },
     "execution_count": 64,
     "metadata": {},
     "output_type": "execute_result"
    }
   ],
   "source": [
    "df.describe()"
   ]
  },
  {
   "cell_type": "code",
   "execution_count": 65,
   "id": "102741f3",
   "metadata": {
    "papermill": {
     "duration": 0.491024,
     "end_time": "2024-07-05T12:35:16.618638",
     "exception": false,
     "start_time": "2024-07-05T12:35:16.127614",
     "status": "completed"
    },
    "tags": []
   },
   "outputs": [
    {
     "data": {
      "text/plain": [
       "<Axes: >"
      ]
     },
     "execution_count": 65,
     "metadata": {},
     "output_type": "execute_result"
    },
    {
     "data": {
      "image/png": "[encoded data removed]",
      "text/plain": [
       "<Figure size 1200x600 with 2 Axes>"
      ]
     },
     "metadata": {},
     "output_type": "display_data"
    }
   ],
   "source": [
    "plt.figure(figsize=(12,6))\n",
    "numeric_columns = [\"Rating\",\"Size_in_Mb\",\"Reviews\",\"Size_in_bytes\",\"Installs\",\"Price\",\"Size_in_Kb\"]\n",
    "sns.heatmap(df[numeric_columns].corr(),annot=True)"
   ]
  },
  {
   "cell_type": "markdown",
   "id": "616ee3c5",
   "metadata": {
    "papermill": {
     "duration": 0.035635,
     "end_time": "2024-07-05T12:35:16.689592",
     "exception": false,
     "start_time": "2024-07-05T12:35:16.653957",
     "status": "completed"
    },
    "tags": []
   },
   "source": [
    "> <div class=\"alert alert-block alert-success\" style=\"color:darkgreen;\">\n",
    "<b>INFO:</b> Lighter color shows high correlation and Darker color shows low correlation.\n",
    "</div>"
   ]
  },
  {
   "cell_type": "code",
   "execution_count": 66,
   "id": "629da749",
   "metadata": {
    "papermill": {
     "duration": 0.056187,
     "end_time": "2024-07-05T12:35:16.779783",
     "exception": false,
     "start_time": "2024-07-05T12:35:16.723596",
     "status": "completed"
    },
    "tags": []
   },
   "outputs": [
    {
     "data": {
      "text/html": [
       "<div>\n",
       "<style scoped>\n",
       "    .dataframe tbody tr th:only-of-type {\n",
       "        vertical-align: middle;\n",
       "    }\n",
       "\n",
       "    .dataframe tbody tr th {\n",
       "        vertical-align: top;\n",
       "    }\n",
       "\n",
       "    .dataframe thead th {\n",
       "        text-align: right;\n",
       "    }\n",
       "</style>\n",
       "<table border=\"1\" class=\"dataframe\">\n",
       "  <thead>\n",
       "    <tr style=\"text-align: right;\">\n",
       "      <th></th>\n",
       "      <th>Rating</th>\n",
       "      <th>Size_in_Mb</th>\n",
       "      <th>Reviews</th>\n",
       "      <th>Size_in_bytes</th>\n",
       "      <th>Installs</th>\n",
       "      <th>Price</th>\n",
       "      <th>Size_in_Kb</th>\n",
       "    </tr>\n",
       "  </thead>\n",
       "  <tbody>\n",
       "    <tr>\n",
       "      <th>Rating</th>\n",
       "      <td>1.000000</td>\n",
       "      <td>0.083737</td>\n",
       "      <td>0.068141</td>\n",
       "      <td>0.083737</td>\n",
       "      <td>0.048685</td>\n",
       "      <td>-0.021176</td>\n",
       "      <td>0.083737</td>\n",
       "    </tr>\n",
       "    <tr>\n",
       "      <th>Size_in_Mb</th>\n",
       "      <td>0.083737</td>\n",
       "      <td>1.000000</td>\n",
       "      <td>0.238214</td>\n",
       "      <td>1.000000</td>\n",
       "      <td>0.164787</td>\n",
       "      <td>-0.023007</td>\n",
       "      <td>1.000000</td>\n",
       "    </tr>\n",
       "    <tr>\n",
       "      <th>Reviews</th>\n",
       "      <td>0.068141</td>\n",
       "      <td>0.238214</td>\n",
       "      <td>1.000000</td>\n",
       "      <td>0.238214</td>\n",
       "      <td>0.643122</td>\n",
       "      <td>-0.009667</td>\n",
       "      <td>0.238214</td>\n",
       "    </tr>\n",
       "    <tr>\n",
       "      <th>Size_in_bytes</th>\n",
       "      <td>0.083737</td>\n",
       "      <td>1.000000</td>\n",
       "      <td>0.238214</td>\n",
       "      <td>1.000000</td>\n",
       "      <td>0.164787</td>\n",
       "      <td>-0.023007</td>\n",
       "      <td>1.000000</td>\n",
       "    </tr>\n",
       "    <tr>\n",
       "      <th>Installs</th>\n",
       "      <td>0.048685</td>\n",
       "      <td>0.164787</td>\n",
       "      <td>0.643122</td>\n",
       "      <td>0.164787</td>\n",
       "      <td>1.000000</td>\n",
       "      <td>-0.011688</td>\n",
       "      <td>0.164787</td>\n",
       "    </tr>\n",
       "    <tr>\n",
       "      <th>Price</th>\n",
       "      <td>-0.021176</td>\n",
       "      <td>-0.023007</td>\n",
       "      <td>-0.009667</td>\n",
       "      <td>-0.023007</td>\n",
       "      <td>-0.011688</td>\n",
       "      <td>1.000000</td>\n",
       "      <td>-0.023007</td>\n",
       "    </tr>\n",
       "    <tr>\n",
       "      <th>Size_in_Kb</th>\n",
       "      <td>0.083737</td>\n",
       "      <td>1.000000</td>\n",
       "      <td>0.238214</td>\n",
       "      <td>1.000000</td>\n",
       "      <td>0.164787</td>\n",
       "      <td>-0.023007</td>\n",
       "      <td>1.000000</td>\n",
       "    </tr>\n",
       "  </tbody>\n",
       "</table>\n",
       "</div>"
      ],
      "text/plain": [
       "                 Rating  Size_in_Mb   Reviews  Size_in_bytes  Installs  \\\n",
       "Rating         1.000000    0.083737  0.068141       0.083737  0.048685   \n",
       "Size_in_Mb     0.083737    1.000000  0.238214       1.000000  0.164787   \n",
       "Reviews        0.068141    0.238214  1.000000       0.238214  0.643122   \n",
       "Size_in_bytes  0.083737    1.000000  0.238214       1.000000  0.164787   \n",
       "Installs       0.048685    0.164787  0.643122       0.164787  1.000000   \n",
       "Price         -0.021176   -0.023007 -0.009667      -0.023007 -0.011688   \n",
       "Size_in_Kb     0.083737    1.000000  0.238214       1.000000  0.164787   \n",
       "\n",
       "                  Price  Size_in_Kb  \n",
       "Rating        -0.021176    0.083737  \n",
       "Size_in_Mb    -0.023007    1.000000  \n",
       "Reviews       -0.009667    0.238214  \n",
       "Size_in_bytes -0.023007    1.000000  \n",
       "Installs      -0.011688    0.164787  \n",
       "Price          1.000000   -0.023007  \n",
       "Size_in_Kb    -0.023007    1.000000  "
      ]
     },
     "execution_count": 66,
     "metadata": {},
     "output_type": "execute_result"
    }
   ],
   "source": [
    "df[numeric_columns].corr()"
   ]
  },
  {
   "cell_type": "markdown",
   "id": "6a17f1d9",
   "metadata": {
    "papermill": {
     "duration": 0.033859,
     "end_time": "2024-07-05T12:35:16.847967",
     "exception": false,
     "start_time": "2024-07-05T12:35:16.814108",
     "status": "completed"
    },
    "tags": []
   },
   "source": [
    "> <div class=\"alert alert-block alert-warning\">\n",
    "<b>Note:</b> We can see that Reviews column has high correlation with Installs column, which is 0.64.\n",
    "</div>"
   ]
  },
  {
   "cell_type": "markdown",
   "id": "0e1d896b",
   "metadata": {
    "papermill": {
     "duration": 0.034,
     "end_time": "2024-07-05T12:35:16.916401",
     "exception": false,
     "start_time": "2024-07-05T12:35:16.882401",
     "status": "completed"
    },
    "tags": []
   },
   "source": [
    "<h3 align=\"left\"> <font color='skyblue'>Let's calculate pearson correlation coefficient</font></h3>"
   ]
  },
  {
   "cell_type": "code",
   "execution_count": 67,
   "id": "98e07d06",
   "metadata": {
    "papermill": {
     "duration": 0.054435,
     "end_time": "2024-07-05T12:35:17.005090",
     "exception": false,
     "start_time": "2024-07-05T12:35:16.950655",
     "status": "completed"
    },
    "tags": []
   },
   "outputs": [],
   "source": [
    "# remove rows containing nan values(imp to calculate pearson's R) \n",
    "df_clean = df.dropna()"
   ]
  },
  {
   "cell_type": "code",
   "execution_count": 68,
   "id": "6490d04c",
   "metadata": {
    "papermill": {
     "duration": 0.04924,
     "end_time": "2024-07-05T12:35:17.088826",
     "exception": false,
     "start_time": "2024-07-05T12:35:17.039586",
     "status": "completed"
    },
    "tags": []
   },
   "outputs": [
    {
     "name": "stdout",
     "output_type": "stream",
     "text": [
      "pearson's R between Installs and Reviews\n"
     ]
    },
    {
     "data": {
      "text/plain": [
       "PearsonRResult(statistic=0.6193916210874723, pvalue=0.0)"
      ]
     },
     "execution_count": 68,
     "metadata": {},
     "output_type": "execute_result"
    }
   ],
   "source": [
    "from scipy import stats\n",
    "\n",
    "# calculate Pearson's R between Installs and Reviews\n",
    "pearson_r = stats.pearsonr(df_clean['Installs'],df_clean['Reviews'])\n",
    "print(\"pearson's R between Installs and Reviews\")\n",
    "pearson_r"
   ]
  },
  {
   "cell_type": "code",
   "execution_count": 69,
   "id": "daf5a8be",
   "metadata": {
    "papermill": {
     "duration": 0.043611,
     "end_time": "2024-07-05T12:35:17.167245",
     "exception": false,
     "start_time": "2024-07-05T12:35:17.123634",
     "status": "completed"
    },
    "tags": []
   },
   "outputs": [
    {
     "name": "stdout",
     "output_type": "stream",
     "text": [
      "7683\n",
      "10841\n"
     ]
    }
   ],
   "source": [
    "print(len(df_clean))\n",
    "print(len(df))"
   ]
  },
  {
   "cell_type": "markdown",
   "id": "0fdab889",
   "metadata": {
    "papermill": {
     "duration": 0.034158,
     "end_time": "2024-07-05T12:35:17.236859",
     "exception": false,
     "start_time": "2024-07-05T12:35:17.202701",
     "status": "completed"
    },
    "tags": []
   },
   "source": [
    "<h2 align=\"center\"> <font color='green'>Dealing with Missing values </font></h2>"
   ]
  },
  {
   "cell_type": "code",
   "execution_count": 70,
   "id": "e27ea188",
   "metadata": {
    "papermill": {
     "duration": 0.043607,
     "end_time": "2024-07-05T12:35:17.315618",
     "exception": false,
     "start_time": "2024-07-05T12:35:17.272011",
     "status": "completed"
    },
    "tags": []
   },
   "outputs": [
    {
     "name": "stdout",
     "output_type": "stream",
     "text": [
      "Length of the Dataframe : 10841\n"
     ]
    }
   ],
   "source": [
    "print(f\"Length of the Dataframe : {len(df)}\")"
   ]
  },
  {
   "cell_type": "code",
   "execution_count": 71,
   "id": "877322cb",
   "metadata": {
    "papermill": {
     "duration": 0.054526,
     "end_time": "2024-07-05T12:35:17.406113",
     "exception": false,
     "start_time": "2024-07-05T12:35:17.351587",
     "status": "completed"
    },
    "tags": []
   },
   "outputs": [
    {
     "data": {
      "text/plain": [
       "App                     0\n",
       "Category                0\n",
       "Installs                0\n",
       "Price                   0\n",
       "Genres                  0\n",
       "Last Updated            0\n",
       "Reviews                 1\n",
       "Type                    1\n",
       "Content Rating          1\n",
       "Android Ver             3\n",
       "Current Ver             8\n",
       "Installs_category     130\n",
       "Rating               1474\n",
       "Size_in_bytes        1696\n",
       "Size_in_Mb           1696\n",
       "Size_in_Kb           1696\n",
       "dtype: int64"
      ]
     },
     "execution_count": 71,
     "metadata": {},
     "output_type": "execute_result"
    }
   ],
   "source": [
    "df.isna().sum().sort_values()"
   ]
  },
  {
   "cell_type": "code",
   "execution_count": 72,
   "id": "21b9d840",
   "metadata": {
    "papermill": {
     "duration": 0.051214,
     "end_time": "2024-07-05T12:35:17.491999",
     "exception": false,
     "start_time": "2024-07-05T12:35:17.440785",
     "status": "completed"
    },
    "tags": []
   },
   "outputs": [],
   "source": [
    "df.dropna(subset= ['Current Ver','Android Ver','Content Rating','Type','Reviews'],inplace=True)"
   ]
  },
  {
   "cell_type": "code",
   "execution_count": 73,
   "id": "79ce4ce0",
   "metadata": {
    "papermill": {
     "duration": 0.046318,
     "end_time": "2024-07-05T12:35:17.574271",
     "exception": false,
     "start_time": "2024-07-05T12:35:17.527953",
     "status": "completed"
    },
    "tags": []
   },
   "outputs": [
    {
     "data": {
      "text/plain": [
       "10829"
      ]
     },
     "execution_count": 73,
     "metadata": {},
     "output_type": "execute_result"
    }
   ],
   "source": [
    "# Length after removing null values in some columns\n",
    "len(df)"
   ]
  },
  {
   "cell_type": "code",
   "execution_count": 74,
   "id": "aa1c4490",
   "metadata": {
    "papermill": {
     "duration": 0.055632,
     "end_time": "2024-07-05T12:35:17.665682",
     "exception": false,
     "start_time": "2024-07-05T12:35:17.610050",
     "status": "completed"
    },
    "tags": []
   },
   "outputs": [
    {
     "data": {
      "text/plain": [
       "App                     0\n",
       "Category                0\n",
       "Reviews                 0\n",
       "Installs                0\n",
       "Type                    0\n",
       "Price                   0\n",
       "Content Rating          0\n",
       "Genres                  0\n",
       "Last Updated            0\n",
       "Current Ver             0\n",
       "Android Ver             0\n",
       "Installs_category     130\n",
       "Rating               1469\n",
       "Size_in_bytes        1694\n",
       "Size_in_Mb           1694\n",
       "Size_in_Kb           1694\n",
       "dtype: int64"
      ]
     },
     "execution_count": 74,
     "metadata": {},
     "output_type": "execute_result"
    }
   ],
   "source": [
    "df.isna().sum().sort_values()"
   ]
  },
  {
   "cell_type": "code",
   "execution_count": 75,
   "id": "d0e65732",
   "metadata": {
    "papermill": {
     "duration": 0.108919,
     "end_time": "2024-07-05T12:35:17.809872",
     "exception": false,
     "start_time": "2024-07-05T12:35:17.700953",
     "status": "completed"
    },
    "tags": []
   },
   "outputs": [],
   "source": [
    "# Imputing\n",
    "df['Installs_category'] = df['Installs_category'].fillna(df['Installs_category'].mode()[0])\n",
    "df['Rating'] = df['Rating'].fillna(df['Rating'].median())\n",
    "df['Size_in_bytes'] = df['Size_in_bytes'].fillna(df['Size_in_bytes'].mean())\n",
    "df['Size_in_Mb'] = df['Size_in_Mb'].fillna(df['Size_in_Mb'].mean())\n",
    "df['Size_in_Kb'] = df['Size_in_Kb'].fillna(df['Size_in_Kb'].mean())"
   ]
  },
  {
   "cell_type": "code",
   "execution_count": 76,
   "id": "bf6a7b06",
   "metadata": {
    "papermill": {
     "duration": 0.053889,
     "end_time": "2024-07-05T12:35:17.900892",
     "exception": false,
     "start_time": "2024-07-05T12:35:17.847003",
     "status": "completed"
    },
    "tags": []
   },
   "outputs": [
    {
     "data": {
      "text/plain": [
       "App                  0\n",
       "Category             0\n",
       "Rating               0\n",
       "Reviews              0\n",
       "Size_in_bytes        0\n",
       "Installs             0\n",
       "Type                 0\n",
       "Price                0\n",
       "Content Rating       0\n",
       "Genres               0\n",
       "Last Updated         0\n",
       "Current Ver          0\n",
       "Android Ver          0\n",
       "Size_in_Mb           0\n",
       "Size_in_Kb           0\n",
       "Installs_category    0\n",
       "dtype: int64"
      ]
     },
     "execution_count": 76,
     "metadata": {},
     "output_type": "execute_result"
    }
   ],
   "source": [
    "df.isna().sum()"
   ]
  },
  {
   "cell_type": "code",
   "execution_count": 77,
   "id": "78321481",
   "metadata": {
    "papermill": {
     "duration": 0.0783,
     "end_time": "2024-07-05T12:35:18.014551",
     "exception": false,
     "start_time": "2024-07-05T12:35:17.936251",
     "status": "completed"
    },
    "tags": []
   },
   "outputs": [
    {
     "data": {
      "text/html": [
       "<div>\n",
       "<style scoped>\n",
       "    .dataframe tbody tr th:only-of-type {\n",
       "        vertical-align: middle;\n",
       "    }\n",
       "\n",
       "    .dataframe tbody tr th {\n",
       "        vertical-align: top;\n",
       "    }\n",
       "\n",
       "    .dataframe thead th {\n",
       "        text-align: right;\n",
       "    }\n",
       "</style>\n",
       "<table border=\"1\" class=\"dataframe\">\n",
       "  <thead>\n",
       "    <tr style=\"text-align: right;\">\n",
       "      <th></th>\n",
       "      <th>count</th>\n",
       "      <th>mean</th>\n",
       "      <th>std</th>\n",
       "      <th>min</th>\n",
       "      <th>25%</th>\n",
       "      <th>50%</th>\n",
       "      <th>75%</th>\n",
       "      <th>max</th>\n",
       "    </tr>\n",
       "    <tr>\n",
       "      <th>Installs_category</th>\n",
       "      <th></th>\n",
       "      <th></th>\n",
       "      <th></th>\n",
       "      <th></th>\n",
       "      <th></th>\n",
       "      <th></th>\n",
       "      <th></th>\n",
       "      <th></th>\n",
       "    </tr>\n",
       "  </thead>\n",
       "  <tbody>\n",
       "    <tr>\n",
       "      <th>No</th>\n",
       "      <td>548.0</td>\n",
       "      <td>4.349818</td>\n",
       "      <td>0.344691</td>\n",
       "      <td>1.0</td>\n",
       "      <td>4.3</td>\n",
       "      <td>4.3</td>\n",
       "      <td>4.3</td>\n",
       "      <td>5.0</td>\n",
       "    </tr>\n",
       "    <tr>\n",
       "      <th>Very low</th>\n",
       "      <td>923.0</td>\n",
       "      <td>4.328494</td>\n",
       "      <td>0.553886</td>\n",
       "      <td>1.0</td>\n",
       "      <td>4.3</td>\n",
       "      <td>4.3</td>\n",
       "      <td>4.4</td>\n",
       "      <td>5.0</td>\n",
       "    </tr>\n",
       "    <tr>\n",
       "      <th>Low</th>\n",
       "      <td>1235.0</td>\n",
       "      <td>4.145182</td>\n",
       "      <td>0.684689</td>\n",
       "      <td>1.0</td>\n",
       "      <td>4.0</td>\n",
       "      <td>4.3</td>\n",
       "      <td>4.5</td>\n",
       "      <td>5.0</td>\n",
       "    </tr>\n",
       "    <tr>\n",
       "      <th>Moderate</th>\n",
       "      <td>1528.0</td>\n",
       "      <td>4.050654</td>\n",
       "      <td>0.589984</td>\n",
       "      <td>1.4</td>\n",
       "      <td>3.8</td>\n",
       "      <td>4.2</td>\n",
       "      <td>4.5</td>\n",
       "      <td>5.0</td>\n",
       "    </tr>\n",
       "    <tr>\n",
       "      <th>More than moderate</th>\n",
       "      <td>1647.0</td>\n",
       "      <td>4.097146</td>\n",
       "      <td>0.501623</td>\n",
       "      <td>1.6</td>\n",
       "      <td>3.9</td>\n",
       "      <td>4.2</td>\n",
       "      <td>4.4</td>\n",
       "      <td>4.9</td>\n",
       "    </tr>\n",
       "    <tr>\n",
       "      <th>High</th>\n",
       "      <td>2246.0</td>\n",
       "      <td>4.213535</td>\n",
       "      <td>0.368763</td>\n",
       "      <td>1.8</td>\n",
       "      <td>4.0</td>\n",
       "      <td>4.3</td>\n",
       "      <td>4.5</td>\n",
       "      <td>4.9</td>\n",
       "    </tr>\n",
       "    <tr>\n",
       "      <th>Very high</th>\n",
       "      <td>2004.0</td>\n",
       "      <td>4.287076</td>\n",
       "      <td>0.294902</td>\n",
       "      <td>2.0</td>\n",
       "      <td>4.1</td>\n",
       "      <td>4.3</td>\n",
       "      <td>4.5</td>\n",
       "      <td>4.9</td>\n",
       "    </tr>\n",
       "    <tr>\n",
       "      <th>Top notch</th>\n",
       "      <td>698.0</td>\n",
       "      <td>4.386533</td>\n",
       "      <td>0.192817</td>\n",
       "      <td>3.1</td>\n",
       "      <td>4.3</td>\n",
       "      <td>4.4</td>\n",
       "      <td>4.5</td>\n",
       "      <td>4.8</td>\n",
       "    </tr>\n",
       "  </tbody>\n",
       "</table>\n",
       "</div>"
      ],
      "text/plain": [
       "                     count      mean       std  min  25%  50%  75%  max\n",
       "Installs_category                                                      \n",
       "No                   548.0  4.349818  0.344691  1.0  4.3  4.3  4.3  5.0\n",
       "Very low             923.0  4.328494  0.553886  1.0  4.3  4.3  4.4  5.0\n",
       "Low                 1235.0  4.145182  0.684689  1.0  4.0  4.3  4.5  5.0\n",
       "Moderate            1528.0  4.050654  0.589984  1.4  3.8  4.2  4.5  5.0\n",
       "More than moderate  1647.0  4.097146  0.501623  1.6  3.9  4.2  4.4  4.9\n",
       "High                2246.0  4.213535  0.368763  1.8  4.0  4.3  4.5  4.9\n",
       "Very high           2004.0  4.287076  0.294902  2.0  4.1  4.3  4.5  4.9\n",
       "Top notch            698.0  4.386533  0.192817  3.1  4.3  4.4  4.5  4.8"
      ]
     },
     "execution_count": 77,
     "metadata": {},
     "output_type": "execute_result"
    }
   ],
   "source": [
    "df.groupby('Installs_category')['Rating'].describe()"
   ]
  },
  {
   "cell_type": "markdown",
   "id": "9a092787",
   "metadata": {
    "papermill": {
     "duration": 0.035345,
     "end_time": "2024-07-05T12:35:18.085275",
     "exception": false,
     "start_time": "2024-07-05T12:35:18.049930",
     "status": "completed"
    },
    "tags": []
   },
   "source": [
    "<a id=\"4\"></a>\n",
    "<p style=\"padding: 10px; background-color: #0B1E47; color: #ffffff; font-family: 'Times New Roman', serif; font-size: 1.5em; text-align: center; border: 3px solid #ffffff; border-radius: 15px 50px; margin: 0; font-weight: 500;\">DATA VISUALIZATION</p>\n",
    "\n"
   ]
  },
  {
   "cell_type": "code",
   "execution_count": 78,
   "id": "f8faedfd",
   "metadata": {
    "papermill": {
     "duration": 0.061445,
     "end_time": "2024-07-05T12:35:18.182161",
     "exception": false,
     "start_time": "2024-07-05T12:35:18.120716",
     "status": "completed"
    },
    "tags": []
   },
   "outputs": [
    {
     "data": {
      "text/html": [
       "<div>\n",
       "<style scoped>\n",
       "    .dataframe tbody tr th:only-of-type {\n",
       "        vertical-align: middle;\n",
       "    }\n",
       "\n",
       "    .dataframe tbody tr th {\n",
       "        vertical-align: top;\n",
       "    }\n",
       "\n",
       "    .dataframe thead th {\n",
       "        text-align: right;\n",
       "    }\n",
       "</style>\n",
       "<table border=\"1\" class=\"dataframe\">\n",
       "  <thead>\n",
       "    <tr style=\"text-align: right;\">\n",
       "      <th></th>\n",
       "      <th>App</th>\n",
       "      <th>Category</th>\n",
       "      <th>Rating</th>\n",
       "      <th>Reviews</th>\n",
       "      <th>Size_in_bytes</th>\n",
       "      <th>Installs</th>\n",
       "      <th>Type</th>\n",
       "      <th>Price</th>\n",
       "      <th>Content Rating</th>\n",
       "      <th>Genres</th>\n",
       "      <th>Last Updated</th>\n",
       "      <th>Current Ver</th>\n",
       "      <th>Android Ver</th>\n",
       "      <th>Size_in_Mb</th>\n",
       "      <th>Size_in_Kb</th>\n",
       "      <th>Installs_category</th>\n",
       "    </tr>\n",
       "  </thead>\n",
       "  <tbody>\n",
       "    <tr>\n",
       "      <th>0</th>\n",
       "      <td>Photo Editor &amp; Candy Camera &amp; Grid &amp; ScrapBook</td>\n",
       "      <td>ART_AND_DESIGN</td>\n",
       "      <td>4.1</td>\n",
       "      <td>159.0</td>\n",
       "      <td>19922944.0</td>\n",
       "      <td>10000.0</td>\n",
       "      <td>Free</td>\n",
       "      <td>0.0</td>\n",
       "      <td>Everyone</td>\n",
       "      <td>Art &amp; Design</td>\n",
       "      <td>January 7, 2018</td>\n",
       "      <td>1.0.0</td>\n",
       "      <td>4.0.3 and up</td>\n",
       "      <td>19.0</td>\n",
       "      <td>19456.0</td>\n",
       "      <td>Moderate</td>\n",
       "    </tr>\n",
       "    <tr>\n",
       "      <th>1</th>\n",
       "      <td>Coloring book moana</td>\n",
       "      <td>ART_AND_DESIGN</td>\n",
       "      <td>3.9</td>\n",
       "      <td>967.0</td>\n",
       "      <td>14680064.0</td>\n",
       "      <td>500000.0</td>\n",
       "      <td>Free</td>\n",
       "      <td>0.0</td>\n",
       "      <td>Everyone</td>\n",
       "      <td>Art &amp; Design;Pretend Play</td>\n",
       "      <td>January 15, 2018</td>\n",
       "      <td>2.0.0</td>\n",
       "      <td>4.0.3 and up</td>\n",
       "      <td>14.0</td>\n",
       "      <td>14336.0</td>\n",
       "      <td>High</td>\n",
       "    </tr>\n",
       "    <tr>\n",
       "      <th>2</th>\n",
       "      <td>U Launcher Lite – FREE Live Cool Themes, Hide ...</td>\n",
       "      <td>ART_AND_DESIGN</td>\n",
       "      <td>4.7</td>\n",
       "      <td>87510.0</td>\n",
       "      <td>9122611.2</td>\n",
       "      <td>5000000.0</td>\n",
       "      <td>Free</td>\n",
       "      <td>0.0</td>\n",
       "      <td>Everyone</td>\n",
       "      <td>Art &amp; Design</td>\n",
       "      <td>August 1, 2018</td>\n",
       "      <td>1.2.4</td>\n",
       "      <td>4.0.3 and up</td>\n",
       "      <td>8.7</td>\n",
       "      <td>8908.8</td>\n",
       "      <td>Very high</td>\n",
       "    </tr>\n",
       "    <tr>\n",
       "      <th>3</th>\n",
       "      <td>Sketch - Draw &amp; Paint</td>\n",
       "      <td>ART_AND_DESIGN</td>\n",
       "      <td>4.5</td>\n",
       "      <td>215644.0</td>\n",
       "      <td>26214400.0</td>\n",
       "      <td>50000000.0</td>\n",
       "      <td>Free</td>\n",
       "      <td>0.0</td>\n",
       "      <td>Teen</td>\n",
       "      <td>Art &amp; Design</td>\n",
       "      <td>June 8, 2018</td>\n",
       "      <td>Varies with device</td>\n",
       "      <td>4.2 and up</td>\n",
       "      <td>25.0</td>\n",
       "      <td>25600.0</td>\n",
       "      <td>Top notch</td>\n",
       "    </tr>\n",
       "    <tr>\n",
       "      <th>4</th>\n",
       "      <td>Pixel Draw - Number Art Coloring Book</td>\n",
       "      <td>ART_AND_DESIGN</td>\n",
       "      <td>4.3</td>\n",
       "      <td>967.0</td>\n",
       "      <td>2936012.8</td>\n",
       "      <td>100000.0</td>\n",
       "      <td>Free</td>\n",
       "      <td>0.0</td>\n",
       "      <td>Everyone</td>\n",
       "      <td>Art &amp; Design;Creativity</td>\n",
       "      <td>June 20, 2018</td>\n",
       "      <td>1.1</td>\n",
       "      <td>4.4 and up</td>\n",
       "      <td>2.8</td>\n",
       "      <td>2867.2</td>\n",
       "      <td>More than moderate</td>\n",
       "    </tr>\n",
       "  </tbody>\n",
       "</table>\n",
       "</div>"
      ],
      "text/plain": [
       "                                                 App        Category  Rating  \\\n",
       "0     Photo Editor & Candy Camera & Grid & ScrapBook  ART_AND_DESIGN     4.1   \n",
       "1                                Coloring book moana  ART_AND_DESIGN     3.9   \n",
       "2  U Launcher Lite – FREE Live Cool Themes, Hide ...  ART_AND_DESIGN     4.7   \n",
       "3                              Sketch - Draw & Paint  ART_AND_DESIGN     4.5   \n",
       "4              Pixel Draw - Number Art Coloring Book  ART_AND_DESIGN     4.3   \n",
       "\n",
       "    Reviews  Size_in_bytes    Installs  Type  Price Content Rating  \\\n",
       "0     159.0     19922944.0     10000.0  Free    0.0       Everyone   \n",
       "1     967.0     14680064.0    500000.0  Free    0.0       Everyone   \n",
       "2   87510.0      9122611.2   5000000.0  Free    0.0       Everyone   \n",
       "3  215644.0     26214400.0  50000000.0  Free    0.0           Teen   \n",
       "4     967.0      2936012.8    100000.0  Free    0.0       Everyone   \n",
       "\n",
       "                      Genres      Last Updated         Current Ver  \\\n",
       "0               Art & Design   January 7, 2018               1.0.0   \n",
       "1  Art & Design;Pretend Play  January 15, 2018               2.0.0   \n",
       "2               Art & Design    August 1, 2018               1.2.4   \n",
       "3               Art & Design      June 8, 2018  Varies with device   \n",
       "4    Art & Design;Creativity     June 20, 2018                 1.1   \n",
       "\n",
       "    Android Ver  Size_in_Mb  Size_in_Kb   Installs_category  \n",
       "0  4.0.3 and up        19.0     19456.0            Moderate  \n",
       "1  4.0.3 and up        14.0     14336.0                High  \n",
       "2  4.0.3 and up         8.7      8908.8           Very high  \n",
       "3    4.2 and up        25.0     25600.0           Top notch  \n",
       "4    4.4 and up         2.8      2867.2  More than moderate  "
      ]
     },
     "execution_count": 78,
     "metadata": {},
     "output_type": "execute_result"
    }
   ],
   "source": [
    "df.head()"
   ]
  },
  {
   "cell_type": "markdown",
   "id": "a21a56bf",
   "metadata": {
    "papermill": {
     "duration": 0.035225,
     "end_time": "2024-07-05T12:35:18.254046",
     "exception": false,
     "start_time": "2024-07-05T12:35:18.218821",
     "status": "completed"
    },
    "tags": []
   },
   "source": [
    "<div style=\"border-radius: 15px 0 15px 0px; border: 1px solid #ffffff; padding: 5px; background-color: #0B1E47; text-align: center; box-shadow: 0px 1px 2px rgba(0, 0, 0, 0.2);\">\n",
    "    <h2 style=\"color: #ffff00; text-shadow: 1px 1px 2px rgba(0, 0, 0, 0.5); font-weight: bold; margin-bottom: 3px; font-size: 18px;\">1. Top 10 Apps based on Ratings</h2>\n",
    "</div>\n"
   ]
  },
  {
   "cell_type": "code",
   "execution_count": 79,
   "id": "5e5399f6",
   "metadata": {
    "papermill": {
     "duration": 0.050038,
     "end_time": "2024-07-05T12:35:18.340054",
     "exception": false,
     "start_time": "2024-07-05T12:35:18.290016",
     "status": "completed"
    },
    "tags": []
   },
   "outputs": [],
   "source": [
    "# Sort the DataFrame by the number of reviews in descending order and select the top 10\n",
    "top_10_apps_rating = df.sort_values(by='Rating',ascending=False).head(10)"
   ]
  },
  {
   "cell_type": "code",
   "execution_count": 80,
   "id": "961382b7",
   "metadata": {
    "papermill": {
     "duration": 0.049988,
     "end_time": "2024-07-05T12:35:18.427082",
     "exception": false,
     "start_time": "2024-07-05T12:35:18.377094",
     "status": "completed"
    },
    "tags": []
   },
   "outputs": [
    {
     "data": {
      "text/plain": [
       "[['BP Journal - Blood Pressure Diary', 5.0],\n",
       " ['Morse Player', 5.0],\n",
       " ['BI APP', 5.0],\n",
       " ['TI-84 CE Graphing Calculator Manual TI 84', 5.0],\n",
       " ['30WPM Amateur ham radio Koch CW Morse code trainer', 5.0],\n",
       " ['Oración CX', 5.0],\n",
       " ['cx advance call blocker', 5.0],\n",
       " ['FA Player Essentials', 5.0],\n",
       " ['Hojiboy Tojiboyev Life Hacks', 5.0],\n",
       " ['CE Smart', 5.0]]"
      ]
     },
     "execution_count": 80,
     "metadata": {},
     "output_type": "execute_result"
    }
   ],
   "source": [
    "top_10_apps_rating[['App','Rating']].values.tolist()\n"
   ]
  },
  {
   "cell_type": "code",
   "execution_count": 81,
   "id": "554ad12f",
   "metadata": {
    "papermill": {
     "duration": 0.361727,
     "end_time": "2024-07-05T12:35:18.824683",
     "exception": false,
     "start_time": "2024-07-05T12:35:18.462956",
     "status": "completed"
    },
    "tags": []
   },
   "outputs": [
    {
     "data": {
      "image/png": "[encoded data removed]",
      "text/plain": [
       "<Figure size 1000x600 with 1 Axes>"
      ]
     },
     "metadata": {},
     "output_type": "display_data"
    }
   ],
   "source": [
    "plt.figure(figsize=(10,6))\n",
    "sns.barplot(data=top_10_apps_rating , x='Rating' ,y='App',palette='viridis')\n",
    "plt.title('Top 10 Apps by Number of Ratings')\n",
    "plt.xlabel('Number of Ratings')\n",
    "plt.ylabel('App')\n",
    "plt.show()"
   ]
  },
  {
   "cell_type": "markdown",
   "id": "012deccb",
   "metadata": {
    "papermill": {
     "duration": 0.036451,
     "end_time": "2024-07-05T12:35:18.898182",
     "exception": false,
     "start_time": "2024-07-05T12:35:18.861731",
     "status": "completed"
    },
    "tags": []
   },
   "source": [
    "<div style=\"border-radius: 15px 0 15px 0px; border: 1px solid #ffffff; padding: 5px; background-color: #0B1E47; text-align: center; box-shadow: 0px 1px 2px rgba(0, 0, 0, 0.2);\">\n",
    "    <h2 style=\"color: #ffff00; text-shadow: 1px 1px 2px rgba(0, 0, 0, 0.5); font-weight: bold; margin-bottom: 3px; font-size: 18px;\">2. Top 10 Apps based on Reviews</h2>\n",
    "</div>\n"
   ]
  },
  {
   "cell_type": "code",
   "execution_count": 82,
   "id": "bfc5bbd4",
   "metadata": {
    "papermill": {
     "duration": 0.05042,
     "end_time": "2024-07-05T12:35:18.985120",
     "exception": false,
     "start_time": "2024-07-05T12:35:18.934700",
     "status": "completed"
    },
    "tags": []
   },
   "outputs": [],
   "source": [
    "# first - sort values\n",
    "top_10_apps_reviews = df.sort_values(by='Reviews',ascending=False)"
   ]
  },
  {
   "cell_type": "code",
   "execution_count": 83,
   "id": "2de363de",
   "metadata": {
    "papermill": {
     "duration": 0.052443,
     "end_time": "2024-07-05T12:35:19.075937",
     "exception": false,
     "start_time": "2024-07-05T12:35:19.023494",
     "status": "completed"
    },
    "tags": []
   },
   "outputs": [],
   "source": [
    "# Drop duplicates from App column\n",
    "top_10_apps_reviews = top_10_apps_reviews.drop_duplicates(subset='App')"
   ]
  },
  {
   "cell_type": "code",
   "execution_count": 84,
   "id": "db9966dd",
   "metadata": {
    "papermill": {
     "duration": 0.045614,
     "end_time": "2024-07-05T12:35:19.158154",
     "exception": false,
     "start_time": "2024-07-05T12:35:19.112540",
     "status": "completed"
    },
    "tags": []
   },
   "outputs": [],
   "source": [
    "# select top 10 using head(10)\n",
    "top_10_apps_reviews = top_10_apps_reviews.head(10)"
   ]
  },
  {
   "cell_type": "code",
   "execution_count": 85,
   "id": "239a80d9",
   "metadata": {
    "papermill": {
     "duration": 0.046761,
     "end_time": "2024-07-05T12:35:19.241816",
     "exception": false,
     "start_time": "2024-07-05T12:35:19.195055",
     "status": "completed"
    },
    "tags": []
   },
   "outputs": [
    {
     "name": "stdout",
     "output_type": "stream",
     "text": [
      "                                          Facebook\n",
      "                                WhatsApp Messenger\n",
      "                                         Instagram\n",
      "          Messenger – Text and Video Chat for Free\n",
      "                                    Clash of Clans\n",
      "           Clean Master- Space Cleaner & Antivirus\n",
      "                                    Subway Surfers\n",
      "                                           YouTube\n",
      "Security Master - Antivirus, VPN, AppLock, Booster\n",
      "                                      Clash Royale\n"
     ]
    }
   ],
   "source": [
    "print(top_10_apps_reviews['App'].to_string(index=False))"
   ]
  },
  {
   "cell_type": "code",
   "execution_count": 86,
   "id": "ffc1bf12",
   "metadata": {
    "papermill": {
     "duration": 0.333049,
     "end_time": "2024-07-05T12:35:19.611912",
     "exception": false,
     "start_time": "2024-07-05T12:35:19.278863",
     "status": "completed"
    },
    "tags": []
   },
   "outputs": [
    {
     "data": {
      "image/png": "[encoded data removed]",
      "text/plain": [
       "<Figure size 1000x600 with 1 Axes>"
      ]
     },
     "metadata": {},
     "output_type": "display_data"
    }
   ],
   "source": [
    "plt.figure(figsize=(10,6))\n",
    "sns.barplot(data=top_10_apps_reviews , x='Reviews' ,y='App',palette='viridis')\n",
    "plt.title('Top 10 Apps by Number of Reviews')\n",
    "plt.xlabel('Number of Reviews')\n",
    "plt.ylabel('App')\n",
    "plt.show()"
   ]
  },
  {
   "cell_type": "markdown",
   "id": "74a84a22",
   "metadata": {
    "papermill": {
     "duration": 0.037221,
     "end_time": "2024-07-05T12:35:19.686888",
     "exception": false,
     "start_time": "2024-07-05T12:35:19.649667",
     "status": "completed"
    },
    "tags": []
   },
   "source": [
    "<div style=\"border-radius: 15px 0 15px 0px; border: 1px solid #ffffff; padding: 5px; background-color: #0B1E47; text-align: center; box-shadow: 0px 1px 2px rgba(0, 0, 0, 0.2);\">\n",
    "    <h2 style=\"color: #ffff00; text-shadow: 1px 1px 2px rgba(0, 0, 0, 0.5); font-weight: bold; margin-bottom: 3px; font-size: 18px;\">3. Most used 5 categories of App</h2>\n",
    "</div>\n"
   ]
  },
  {
   "cell_type": "code",
   "execution_count": 87,
   "id": "a8356ab9",
   "metadata": {
    "papermill": {
     "duration": 0.049321,
     "end_time": "2024-07-05T12:35:19.773489",
     "exception": false,
     "start_time": "2024-07-05T12:35:19.724168",
     "status": "completed"
    },
    "tags": []
   },
   "outputs": [
    {
     "data": {
      "text/plain": [
       "array(['ART_AND_DESIGN', 'AUTO_AND_VEHICLES', 'BEAUTY',\n",
       "       'BOOKS_AND_REFERENCE', 'BUSINESS', 'COMICS', 'COMMUNICATION',\n",
       "       'DATING', 'EDUCATION', 'ENTERTAINMENT', 'EVENTS', 'FINANCE',\n",
       "       'FOOD_AND_DRINK', 'HEALTH_AND_FITNESS', 'HOUSE_AND_HOME',\n",
       "       'LIBRARIES_AND_DEMO', 'LIFESTYLE', 'GAME', 'FAMILY', 'MEDICAL',\n",
       "       'SOCIAL', 'SHOPPING', 'PHOTOGRAPHY', 'SPORTS', 'TRAVEL_AND_LOCAL',\n",
       "       'TOOLS', 'PERSONALIZATION', 'PRODUCTIVITY', 'PARENTING', 'WEATHER',\n",
       "       'VIDEO_PLAYERS', 'NEWS_AND_MAGAZINES', 'MAPS_AND_NAVIGATION'],\n",
       "      dtype=object)"
      ]
     },
     "execution_count": 87,
     "metadata": {},
     "output_type": "execute_result"
    }
   ],
   "source": [
    "df['Category'].unique()"
   ]
  },
  {
   "cell_type": "code",
   "execution_count": 88,
   "id": "b9cdbda9",
   "metadata": {
    "papermill": {
     "duration": 0.048775,
     "end_time": "2024-07-05T12:35:19.859718",
     "exception": false,
     "start_time": "2024-07-05T12:35:19.810943",
     "status": "completed"
    },
    "tags": []
   },
   "outputs": [],
   "source": [
    "# count the occurence\n",
    "most_category = df['Category'].value_counts()"
   ]
  },
  {
   "cell_type": "code",
   "execution_count": 89,
   "id": "e419e2f0",
   "metadata": {
    "papermill": {
     "duration": 0.051192,
     "end_time": "2024-07-05T12:35:19.948855",
     "exception": false,
     "start_time": "2024-07-05T12:35:19.897663",
     "status": "completed"
    },
    "tags": []
   },
   "outputs": [
    {
     "data": {
      "text/plain": [
       "Category\n",
       "FAMILY      1968\n",
       "GAME        1144\n",
       "TOOLS        841\n",
       "MEDICAL      463\n",
       "BUSINESS     460\n",
       "Name: count, dtype: int64"
      ]
     },
     "execution_count": 89,
     "metadata": {},
     "output_type": "execute_result"
    }
   ],
   "source": [
    "most_5_category = most_category.head(5)\n",
    "most_5_category"
   ]
  },
  {
   "cell_type": "code",
   "execution_count": 90,
   "id": "8b7889d8",
   "metadata": {
    "papermill": {
     "duration": 0.050911,
     "end_time": "2024-07-05T12:35:20.038625",
     "exception": false,
     "start_time": "2024-07-05T12:35:19.987714",
     "status": "completed"
    },
    "tags": []
   },
   "outputs": [
    {
     "data": {
      "text/plain": [
       "array([1968, 1144,  841,  463,  460])"
      ]
     },
     "execution_count": 90,
     "metadata": {},
     "output_type": "execute_result"
    }
   ],
   "source": [
    "# no of occurence\n",
    "most_5_category.values"
   ]
  },
  {
   "cell_type": "code",
   "execution_count": 91,
   "id": "321f02f3",
   "metadata": {
    "papermill": {
     "duration": 0.049104,
     "end_time": "2024-07-05T12:35:20.125602",
     "exception": false,
     "start_time": "2024-07-05T12:35:20.076498",
     "status": "completed"
    },
    "tags": []
   },
   "outputs": [
    {
     "data": {
      "text/plain": [
       "Index(['FAMILY', 'GAME', 'TOOLS', 'MEDICAL', 'BUSINESS'], dtype='object', name='Category')"
      ]
     },
     "execution_count": 91,
     "metadata": {},
     "output_type": "execute_result"
    }
   ],
   "source": [
    "most_5_category.index"
   ]
  },
  {
   "cell_type": "code",
   "execution_count": 92,
   "id": "0c3aea68",
   "metadata": {
    "papermill": {
     "duration": 0.279176,
     "end_time": "2024-07-05T12:35:20.443205",
     "exception": false,
     "start_time": "2024-07-05T12:35:20.164029",
     "status": "completed"
    },
    "tags": []
   },
   "outputs": [
    {
     "data": {
      "image/png": "[encoded data removed]",
      "text/plain": [
       "<Figure size 1000x600 with 1 Axes>"
      ]
     },
     "metadata": {},
     "output_type": "display_data"
    }
   ],
   "source": [
    "plt.figure(figsize=(10,6))\n",
    "sns.barplot(x=most_5_category.index ,y=most_5_category.values ,palette='viridis')\n",
    "plt.title('Most used 5 categories of App')\n",
    "plt.ylabel('Number of times')\n",
    "plt.xlabel('category')\n",
    "plt.show()"
   ]
  },
  {
   "cell_type": "markdown",
   "id": "9d1678b9",
   "metadata": {
    "papermill": {
     "duration": 0.038469,
     "end_time": "2024-07-05T12:35:20.521244",
     "exception": false,
     "start_time": "2024-07-05T12:35:20.482775",
     "status": "completed"
    },
    "tags": []
   },
   "source": [
    "<div style=\"border-radius: 15px 0 15px 0px; border: 1px solid #ffffff; padding: 5px; background-color: #0B1E47; text-align: center; box-shadow: 0px 1px 2px rgba(0, 0, 0, 0.2);\">\n",
    "    <h2 style=\"color: #ffff00; text-shadow: 1px 1px 2px rgba(0, 0, 0, 0.5); font-weight: bold; margin-bottom: 3px; font-size: 18px;\">4. Which genres most of the App belong to ?</h2>\n",
    "</div>\n"
   ]
  },
  {
   "cell_type": "code",
   "execution_count": 93,
   "id": "588192fa",
   "metadata": {
    "papermill": {
     "duration": 0.05158,
     "end_time": "2024-07-05T12:35:20.613417",
     "exception": false,
     "start_time": "2024-07-05T12:35:20.561837",
     "status": "completed"
    },
    "tags": []
   },
   "outputs": [
    {
     "data": {
      "text/plain": [
       "Genres\n",
       "Tools            840\n",
       "Entertainment    622\n",
       "Education        548\n",
       "Medical          463\n",
       "Business         460\n",
       "Name: count, dtype: int64"
      ]
     },
     "execution_count": 93,
     "metadata": {},
     "output_type": "execute_result"
    }
   ],
   "source": [
    "most_genres = df['Genres'].value_counts()\n",
    "most_5_genres = most_genres.head(5)\n",
    "most_5_genres"
   ]
  },
  {
   "cell_type": "code",
   "execution_count": 94,
   "id": "a0aa748b",
   "metadata": {
    "papermill": {
     "duration": 0.214498,
     "end_time": "2024-07-05T12:35:20.866191",
     "exception": false,
     "start_time": "2024-07-05T12:35:20.651693",
     "status": "completed"
    },
    "tags": []
   },
   "outputs": [
    {
     "data": {
      "image/png": "[encoded data removed]",
      "text/plain": [
       "<Figure size 1000x600 with 1 Axes>"
      ]
     },
     "metadata": {},
     "output_type": "display_data"
    }
   ],
   "source": [
    "# Plotting the pie chart\n",
    "plt.figure(figsize=(10, 6))\n",
    "most_5_genres.plot(kind='pie', autopct='%1.1f%%', colors=sns.color_palette('viridis',5),startangle=100)\n",
    "plt.title('Most Common Genres of Apps')\n",
    "plt.ylabel('')\n",
    "plt.show()"
   ]
  },
  {
   "cell_type": "markdown",
   "id": "aaee9a60",
   "metadata": {
    "papermill": {
     "duration": 0.038841,
     "end_time": "2024-07-05T12:35:20.962278",
     "exception": false,
     "start_time": "2024-07-05T12:35:20.923437",
     "status": "completed"
    },
    "tags": []
   },
   "source": [
    "<div style=\"border-radius: 15px 0 15px 0px; border: 1px solid #ffffff; padding: 5px; background-color: #0B1E47; text-align: center; box-shadow: 0px 1px 2px rgba(0, 0, 0, 0.2);\">\n",
    "    <h2 style=\"color: #ffff00; text-shadow: 1px 1px 2px rgba(0, 0, 0, 0.5); font-weight: bold; margin-bottom: 3px; font-size: 18px;\">5. which type of App widely on playstore</h2>\n",
    "</div>\n"
   ]
  },
  {
   "cell_type": "code",
   "execution_count": 95,
   "id": "7f58e0ea",
   "metadata": {
    "papermill": {
     "duration": 0.051691,
     "end_time": "2024-07-05T12:35:21.053919",
     "exception": false,
     "start_time": "2024-07-05T12:35:21.002228",
     "status": "completed"
    },
    "tags": []
   },
   "outputs": [
    {
     "data": {
      "text/plain": [
       "Type\n",
       "Free    10032\n",
       "Paid      797\n",
       "Name: count, dtype: int64"
      ]
     },
     "execution_count": 95,
     "metadata": {},
     "output_type": "execute_result"
    }
   ],
   "source": [
    "df['Type'].value_counts()"
   ]
  },
  {
   "cell_type": "code",
   "execution_count": 96,
   "id": "12c43b91",
   "metadata": {
    "papermill": {
     "duration": 0.21684,
     "end_time": "2024-07-05T12:35:21.310140",
     "exception": false,
     "start_time": "2024-07-05T12:35:21.093300",
     "status": "completed"
    },
    "tags": []
   },
   "outputs": [
    {
     "data": {
      "image/png": "[encoded data removed]",
      "text/plain": [
       "<Figure size 800x400 with 1 Axes>"
      ]
     },
     "metadata": {},
     "output_type": "display_data"
    }
   ],
   "source": [
    "most_type = df['Type'].value_counts()\n",
    "\n",
    "plt.figure(figsize=(8,4))\n",
    "most_type.plot(kind='bar',color=sns.color_palette('viridis'))\n",
    "plt.title('Types of App')\n",
    "plt.ylabel('')\n",
    "plt.xlabel('Types')\n",
    "plt.show()"
   ]
  },
  {
   "cell_type": "markdown",
   "id": "ec558e3d",
   "metadata": {
    "papermill": {
     "duration": 0.041005,
     "end_time": "2024-07-05T12:35:21.391393",
     "exception": false,
     "start_time": "2024-07-05T12:35:21.350388",
     "status": "completed"
    },
    "tags": []
   },
   "source": [
    "<div style=\"border-radius: 15px 0 15px 0px; border: 1px solid #ffffff; padding: 5px; background-color: #0B1E47; text-align: center; box-shadow: 0px 1px 2px rgba(0, 0, 0, 0.2);\">\n",
    "    <h2 style=\"color: #ffff00; text-shadow: 1px 1px 2px rgba(0, 0, 0, 0.5); font-weight: bold; margin-bottom: 3px; font-size: 18px;\">6. No.of Apps for different age groups of people</h2>\n",
    "</div>\n"
   ]
  },
  {
   "cell_type": "code",
   "execution_count": 97,
   "id": "cc94e813",
   "metadata": {
    "papermill": {
     "duration": 0.05471,
     "end_time": "2024-07-05T12:35:21.486608",
     "exception": false,
     "start_time": "2024-07-05T12:35:21.431898",
     "status": "completed"
    },
    "tags": []
   },
   "outputs": [
    {
     "data": {
      "text/plain": [
       "Content Rating\n",
       "Everyone           8704\n",
       "Teen               1208\n",
       "Mature 17+          499\n",
       "Everyone 10+        413\n",
       "Adults only 18+       3\n",
       "Unrated               2\n",
       "Name: count, dtype: int64"
      ]
     },
     "execution_count": 97,
     "metadata": {},
     "output_type": "execute_result"
    }
   ],
   "source": [
    "no_age_groups = df['Content Rating'].value_counts()\n",
    "no_age_groups"
   ]
  },
  {
   "cell_type": "code",
   "execution_count": 98,
   "id": "9964a1a0",
   "metadata": {
    "papermill": {
     "duration": 0.295034,
     "end_time": "2024-07-05T12:35:21.822120",
     "exception": false,
     "start_time": "2024-07-05T12:35:21.527086",
     "status": "completed"
    },
    "tags": []
   },
   "outputs": [
    {
     "data": {
      "image/png": "[encoded data removed]",
      "text/plain": [
       "<Figure size 1000x600 with 1 Axes>"
      ]
     },
     "metadata": {},
     "output_type": "display_data"
    }
   ],
   "source": [
    "plt.figure(figsize=(10,6))\n",
    "sns.barplot(x=no_age_groups.index ,y=no_age_groups.values ,palette='viridis')\n",
    "plt.title(' No.of Apps for different Age categories of people')\n",
    "plt.ylabel('')\n",
    "plt.xlabel('Age Groups')\n",
    "plt.show()"
   ]
  },
  {
   "cell_type": "code",
   "execution_count": 99,
   "id": "8cde5eb4",
   "metadata": {
    "papermill": {
     "duration": 0.075264,
     "end_time": "2024-07-05T12:35:21.938548",
     "exception": false,
     "start_time": "2024-07-05T12:35:21.863284",
     "status": "completed"
    },
    "tags": []
   },
   "outputs": [
    {
     "data": {
      "text/html": [
       "<div>\n",
       "<style scoped>\n",
       "    .dataframe tbody tr th:only-of-type {\n",
       "        vertical-align: middle;\n",
       "    }\n",
       "\n",
       "    .dataframe tbody tr th {\n",
       "        vertical-align: top;\n",
       "    }\n",
       "\n",
       "    .dataframe thead th {\n",
       "        text-align: right;\n",
       "    }\n",
       "</style>\n",
       "<table border=\"1\" class=\"dataframe\">\n",
       "  <thead>\n",
       "    <tr style=\"text-align: right;\">\n",
       "      <th></th>\n",
       "      <th>App</th>\n",
       "      <th>Category</th>\n",
       "      <th>Rating</th>\n",
       "      <th>Reviews</th>\n",
       "      <th>Size_in_bytes</th>\n",
       "      <th>Installs</th>\n",
       "      <th>Type</th>\n",
       "      <th>Price</th>\n",
       "      <th>Content Rating</th>\n",
       "      <th>Genres</th>\n",
       "      <th>Last Updated</th>\n",
       "      <th>Current Ver</th>\n",
       "      <th>Android Ver</th>\n",
       "      <th>Size_in_Mb</th>\n",
       "      <th>Size_in_Kb</th>\n",
       "      <th>Installs_category</th>\n",
       "    </tr>\n",
       "  </thead>\n",
       "  <tbody>\n",
       "    <tr>\n",
       "      <th>0</th>\n",
       "      <td>Photo Editor &amp; Candy Camera &amp; Grid &amp; ScrapBook</td>\n",
       "      <td>ART_AND_DESIGN</td>\n",
       "      <td>4.1</td>\n",
       "      <td>159.0</td>\n",
       "      <td>19922944.0</td>\n",
       "      <td>10000.0</td>\n",
       "      <td>Free</td>\n",
       "      <td>0.0</td>\n",
       "      <td>Everyone</td>\n",
       "      <td>Art &amp; Design</td>\n",
       "      <td>January 7, 2018</td>\n",
       "      <td>1.0.0</td>\n",
       "      <td>4.0.3 and up</td>\n",
       "      <td>19.0</td>\n",
       "      <td>19456.0</td>\n",
       "      <td>Moderate</td>\n",
       "    </tr>\n",
       "    <tr>\n",
       "      <th>1</th>\n",
       "      <td>Coloring book moana</td>\n",
       "      <td>ART_AND_DESIGN</td>\n",
       "      <td>3.9</td>\n",
       "      <td>967.0</td>\n",
       "      <td>14680064.0</td>\n",
       "      <td>500000.0</td>\n",
       "      <td>Free</td>\n",
       "      <td>0.0</td>\n",
       "      <td>Everyone</td>\n",
       "      <td>Art &amp; Design;Pretend Play</td>\n",
       "      <td>January 15, 2018</td>\n",
       "      <td>2.0.0</td>\n",
       "      <td>4.0.3 and up</td>\n",
       "      <td>14.0</td>\n",
       "      <td>14336.0</td>\n",
       "      <td>High</td>\n",
       "    </tr>\n",
       "    <tr>\n",
       "      <th>2</th>\n",
       "      <td>U Launcher Lite – FREE Live Cool Themes, Hide ...</td>\n",
       "      <td>ART_AND_DESIGN</td>\n",
       "      <td>4.7</td>\n",
       "      <td>87510.0</td>\n",
       "      <td>9122611.2</td>\n",
       "      <td>5000000.0</td>\n",
       "      <td>Free</td>\n",
       "      <td>0.0</td>\n",
       "      <td>Everyone</td>\n",
       "      <td>Art &amp; Design</td>\n",
       "      <td>August 1, 2018</td>\n",
       "      <td>1.2.4</td>\n",
       "      <td>4.0.3 and up</td>\n",
       "      <td>8.7</td>\n",
       "      <td>8908.8</td>\n",
       "      <td>Very high</td>\n",
       "    </tr>\n",
       "    <tr>\n",
       "      <th>3</th>\n",
       "      <td>Sketch - Draw &amp; Paint</td>\n",
       "      <td>ART_AND_DESIGN</td>\n",
       "      <td>4.5</td>\n",
       "      <td>215644.0</td>\n",
       "      <td>26214400.0</td>\n",
       "      <td>50000000.0</td>\n",
       "      <td>Free</td>\n",
       "      <td>0.0</td>\n",
       "      <td>Teen</td>\n",
       "      <td>Art &amp; Design</td>\n",
       "      <td>June 8, 2018</td>\n",
       "      <td>Varies with device</td>\n",
       "      <td>4.2 and up</td>\n",
       "      <td>25.0</td>\n",
       "      <td>25600.0</td>\n",
       "      <td>Top notch</td>\n",
       "    </tr>\n",
       "    <tr>\n",
       "      <th>4</th>\n",
       "      <td>Pixel Draw - Number Art Coloring Book</td>\n",
       "      <td>ART_AND_DESIGN</td>\n",
       "      <td>4.3</td>\n",
       "      <td>967.0</td>\n",
       "      <td>2936012.8</td>\n",
       "      <td>100000.0</td>\n",
       "      <td>Free</td>\n",
       "      <td>0.0</td>\n",
       "      <td>Everyone</td>\n",
       "      <td>Art &amp; Design;Creativity</td>\n",
       "      <td>June 20, 2018</td>\n",
       "      <td>1.1</td>\n",
       "      <td>4.4 and up</td>\n",
       "      <td>2.8</td>\n",
       "      <td>2867.2</td>\n",
       "      <td>More than moderate</td>\n",
       "    </tr>\n",
       "  </tbody>\n",
       "</table>\n",
       "</div>"
      ],
      "text/plain": [
       "                                                 App        Category  Rating  \\\n",
       "0     Photo Editor & Candy Camera & Grid & ScrapBook  ART_AND_DESIGN     4.1   \n",
       "1                                Coloring book moana  ART_AND_DESIGN     3.9   \n",
       "2  U Launcher Lite – FREE Live Cool Themes, Hide ...  ART_AND_DESIGN     4.7   \n",
       "3                              Sketch - Draw & Paint  ART_AND_DESIGN     4.5   \n",
       "4              Pixel Draw - Number Art Coloring Book  ART_AND_DESIGN     4.3   \n",
       "\n",
       "    Reviews  Size_in_bytes    Installs  Type  Price Content Rating  \\\n",
       "0     159.0     19922944.0     10000.0  Free    0.0       Everyone   \n",
       "1     967.0     14680064.0    500000.0  Free    0.0       Everyone   \n",
       "2   87510.0      9122611.2   5000000.0  Free    0.0       Everyone   \n",
       "3  215644.0     26214400.0  50000000.0  Free    0.0           Teen   \n",
       "4     967.0      2936012.8    100000.0  Free    0.0       Everyone   \n",
       "\n",
       "                      Genres      Last Updated         Current Ver  \\\n",
       "0               Art & Design   January 7, 2018               1.0.0   \n",
       "1  Art & Design;Pretend Play  January 15, 2018               2.0.0   \n",
       "2               Art & Design    August 1, 2018               1.2.4   \n",
       "3               Art & Design      June 8, 2018  Varies with device   \n",
       "4    Art & Design;Creativity     June 20, 2018                 1.1   \n",
       "\n",
       "    Android Ver  Size_in_Mb  Size_in_Kb   Installs_category  \n",
       "0  4.0.3 and up        19.0     19456.0            Moderate  \n",
       "1  4.0.3 and up        14.0     14336.0                High  \n",
       "2  4.0.3 and up         8.7      8908.8           Very high  \n",
       "3    4.2 and up        25.0     25600.0           Top notch  \n",
       "4    4.4 and up         2.8      2867.2  More than moderate  "
      ]
     },
     "execution_count": 99,
     "metadata": {},
     "output_type": "execute_result"
    }
   ],
   "source": [
    "df.head()"
   ]
  },
  {
   "cell_type": "code",
   "execution_count": null,
   "id": "dc8ebd65",
   "metadata": {
    "papermill": {
     "duration": 0.041846,
     "end_time": "2024-07-05T12:35:22.022160",
     "exception": false,
     "start_time": "2024-07-05T12:35:21.980314",
     "status": "completed"
    },
    "tags": []
   },
   "outputs": [],
   "source": []
  }
 ],
 "metadata": {
  "kaggle": {
   "accelerator": "none",
   "dataSources": [
    {
     "datasetId": 49864,
     "sourceId": 274957,
     "sourceType": "datasetVersion"
    }
   ],
   "isGpuEnabled": false,
   "isInternetEnabled": true,
   "language": "python",
   "sourceType": "notebook"
  },
  "kernelspec": {
   "display_name": "Python 3 (ipykernel)",
   "language": "python",
   "name": "python3"
  },
  "language_info": {
   "codemirror_mode": {
    "name": "ipython",
    "version": 3
   },
   "file_extension": ".py",
   "mimetype": "text/x-python",
   "name": "python",
   "nbconvert_exporter": "python",
   "pygments_lexer": "ipython3",
   "version": "3.11.4"
  },
  "papermill": {
   "default_parameters": {},
   "duration": 19.254092,
   "end_time": "2024-07-05T12:35:22.683776",
   "environment_variables": {},
   "exception": null,
   "input_path": "__notebook__.ipynb",
   "output_path": "__notebook__.ipynb",
   "parameters": {},
   "start_time": "2024-07-05T12:35:03.429684",
   "version": "2.5.0"
  }
 },
 "nbformat": 4,
 "nbformat_minor": 5
}
